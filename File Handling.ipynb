{
 "cells": [
  {
   "cell_type": "code",
   "execution_count": 1,
   "metadata": {},
   "outputs": [],
   "source": [
    "zz=open(\"C:\\\\Users\\\\Karan Mehta\\\\IBM_Training\\\\Training\\\\01 -Python Basics\\\\Wednesday.txt\",\"w\")\n",
    "zz.write(\"Welocme to today's session and today is Sunday!\")\n",
    "zz.close()"
   ]
  },
  {
   "cell_type": "code",
   "execution_count": 4,
   "metadata": {},
   "outputs": [],
   "source": [
    "#Create the file\n",
    "file=open(\"C:\\\\Users\\\\Karan Mehta\\\\IBM_Training\\\\Training\\\\01 -Python Basics\\\\First.txt\",\"w\")\n",
    "file.write(\"I love .Net Programming and I Love R Programming as well\")\n",
    "file.close()"
   ]
  },
  {
   "cell_type": "code",
   "execution_count": 9,
   "metadata": {},
   "outputs": [],
   "source": [
    "file = open(\"C:\\\\Users\\\\Karan Mehta\\\\IBM_Training\\\\Training\\\\01 -Python Basics\\\\tithi.txt\",\"w\")\n",
    "file.write(\"This is the write command\")\n",
    "file.close()\n"
   ]
  },
  {
   "cell_type": "code",
   "execution_count": 3,
   "metadata": {},
   "outputs": [],
   "source": [
    "earth=open(\"C:\\\\Users\\\\Karan Mehta\\\\IBM_Training\\\\Training\\\\01 -Python Basics\\\\Karan.txt\",\"w\")\n",
    "earth.write(\"Good Afternoon Guys, Welcome to File Handling Concepts\")\n",
    "earth.close()"
   ]
  },
  {
   "cell_type": "markdown",
   "metadata": {},
   "source": [
    "###### \"w\" Opens the file for writing only. If the file doesn't exist then it will create new one. If the file exists then it would      overwrite it\n",
    "\n",
    "###### \"a\" Opens a file in append mode. Whatever you have write to the file will get appended and original content will get appended\n",
    "\n",
    "###### \"r\" Opens the file in reding mode only. Throws error if file doesn't exist.\n",
    "\n",
    "###### \"r+\" Opens the file for both reading and writing\n",
    "\n",
    "###### \"w+\" Opens the file for reading and writing. If the file doesn't exists then it will create new one. If it exists then it will overwrite it."
   ]
  },
  {
   "cell_type": "code",
   "execution_count": 11,
   "metadata": {},
   "outputs": [
    {
     "name": "stdout",
     "output_type": "stream",
     "text": [
      "Good Afternoon Guys, Welcome to File Handling Concepts\n"
     ]
    }
   ],
   "source": [
    "#Reading the File\n",
    "file=open(\"C:\\\\Users\\\\Karan Mehta\\\\IBM_Training\\\\Training\\\\01 -Python Basics\\\\Karan.txt\",\"r\")\n",
    "print(file.read())\n",
    "file.close()"
   ]
  },
  {
   "cell_type": "code",
   "execution_count": 12,
   "metadata": {},
   "outputs": [],
   "source": [
    "file=open(\"C:\\\\Users\\\\Karan Mehta\\\\IBM_Training\\\\Training\\\\01 -Python Basics\\\\First.txt\",\"a\")\n",
    "file.write(\" I love Ruby and Scala Programming Language also\")\n",
    "file.close()"
   ]
  },
  {
   "cell_type": "code",
   "execution_count": 14,
   "metadata": {},
   "outputs": [
    {
     "name": "stdout",
     "output_type": "stream",
     "text": [
      "I love .Net Programming and I Love R Programming as well I love Ruby and Scala Programming Language also\n"
     ]
    }
   ],
   "source": [
    "file=open(\"C:\\\\Users\\\\Karan Mehta\\\\IBM_Training\\\\Training\\\\01 -Python Basics\\\\First.txt\",\"r\")\n",
    "print(file.read())\n",
    "file.close()"
   ]
  },
  {
   "cell_type": "code",
   "execution_count": null,
   "metadata": {},
   "outputs": [],
   "source": [
    "file=open(\"C:\\\\Users\\\\Karan Mehta\\\\IBM_Training\\\\Training\\\\01 -Python Basics\\\\First.txt\",\"a\")\n",
    "file.write(\"\\nI love Machine Learning too\")\n",
    "file.close()\n",
    "\n",
    "file=open(\"C:\\\\Users\\\\Karan Mehta\\\\IBM_Training\\\\Training\\\\01 -Python Basics\\\\First.txt\",\"a\")\n",
    "file.write(\"\\nI love Deep Learning.\")\n",
    "file.close()"
   ]
  },
  {
   "cell_type": "code",
   "execution_count": null,
   "metadata": {},
   "outputs": [],
   "source": [
    "file=open(\"C:\\\\Users\\\\Karan Mehta\\\\IBM_Training\\\\Training\\\\01 -Python Basics\\\\First.txt\",\"r\")\n",
    "print(file.read())\n",
    "file.close()"
   ]
  },
  {
   "cell_type": "code",
   "execution_count": null,
   "metadata": {
    "scrolled": true
   },
   "outputs": [],
   "source": [
    "file=open(\"C:\\\\Users\\\\Karan Mehta\\\\IBM_Training\\\\Training\\\\01 -Python Basics\\\\First.txt\",\"r\")\n",
    "for i in  file:\n",
    "    print(i)\n",
    "file.close()"
   ]
  },
  {
   "cell_type": "code",
   "execution_count": null,
   "metadata": {},
   "outputs": [],
   "source": [
    "#Counting of words\n",
    "file=open(\"C:\\\\Users\\\\Karan Mehta\\\\IBM_Training\\\\Training\\\\01 -Python Basics\\\\First.txt\",\"r\")\n",
    "for line in file:\n",
    "    token=line.split(\" \")\n",
    "    print(len(token))\n",
    "    print(token)\n",
    "file.close()"
   ]
  },
  {
   "cell_type": "code",
   "execution_count": 16,
   "metadata": {},
   "outputs": [],
   "source": [
    "#Saving the Output in different file\n",
    "file=open(\"C:\\\\Users\\\\Karan Mehta\\\\IBM_Training\\\\Training\\\\01 -Python Basics\\\\First.txt\",\"r\")\n",
    "file_out=open(\"C:\\\\Users\\\\Karan Mehta\\\\IBM_Training\\\\Training\\\\01 -Python Basics\\\\Third.txt\",\"w\")\n",
    "for line in file:\n",
    "    token=line.split(\" \")\n",
    "    file_out.write(\"Words Count- \"+str(len(token))+\" \"+line)\n",
    "file.close()\n",
    "file_out.close()"
   ]
  },
  {
   "cell_type": "code",
   "execution_count": 18,
   "metadata": {},
   "outputs": [
    {
     "name": "stdout",
     "output_type": "stream",
     "text": [
      "Words Count- 19 I love .Net Programming and I Love R Programming as well I love Ruby and Scala Programming Language also\n"
     ]
    }
   ],
   "source": [
    "file_out=open(\"C:\\\\Users\\\\Karan Mehta\\\\IBM_Training\\\\Training\\\\01 -Python Basics\\\\Third.txt\",\"r\")\n",
    "print(file_out.read())\n",
    "file_out.close()"
   ]
  },
  {
   "cell_type": "code",
   "execution_count": null,
   "metadata": {},
   "outputs": [],
   "source": [
    "#Delete the texts in file\n",
    "file_out=open(\"C:\\\\Users\\\\admin\\\\IBM_Training\\\\Training\\\\01 -Python Basics\\\\First.txt\",\"r+\")\n",
    "file_out.truncate()\n",
    "file_out.write(\"Getting this text after the truncate( ) executes in First.txt\")\n",
    "print(file_out.read())\n",
    "file_out.close()\n"
   ]
  },
  {
   "cell_type": "code",
   "execution_count": 23,
   "metadata": {
    "scrolled": true
   },
   "outputs": [
    {
     "name": "stdout",
     "output_type": "stream",
     "text": [
      "I love .Net Programming and I Love R Programming as well I love Ruby and Scala Programming Language also\n"
     ]
    }
   ],
   "source": [
    "file_out=open(\"C:\\\\Users\\\\Karan Mehta\\\\IBM_Training\\\\Training\\\\01 -Python Basics\\\\First.txt\",\"r+\")\n",
    "print(file_out.read())\n",
    "file_out.close()"
   ]
  },
  {
   "cell_type": "code",
   "execution_count": 22,
   "metadata": {},
   "outputs": [
    {
     "data": {
      "text/plain": [
       "['Hi Karan Good Morning', 'welocme to this', 'session']"
      ]
     },
     "execution_count": 22,
     "metadata": {},
     "output_type": "execute_result"
    }
   ],
   "source": [
    "\"Good Morning\".split(\" \")\n",
    "\"Hi Karan Good Morning@welocme to this@session\".split(\"@\")"
   ]
  },
  {
   "cell_type": "markdown",
   "metadata": {},
   "source": [
    "# Good Job!"
   ]
  }
 ],
 "metadata": {
  "kernelspec": {
   "display_name": "Python 3 (ipykernel)",
   "language": "python",
   "name": "python3"
  },
  "language_info": {
   "codemirror_mode": {
    "name": "ipython",
    "version": 3
   },
   "file_extension": ".py",
   "mimetype": "text/x-python",
   "name": "python",
   "nbconvert_exporter": "python",
   "pygments_lexer": "ipython3",
   "version": "3.10.4"
  }
 },
 "nbformat": 4,
 "nbformat_minor": 2
}
