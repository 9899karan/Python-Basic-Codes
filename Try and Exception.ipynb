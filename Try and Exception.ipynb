{
 "cells": [
  {
   "cell_type": "code",
   "execution_count": null,
   "metadata": {},
   "outputs": [],
   "source": [
    "try:\n",
    "    pass\n",
    "except Exception:\n",
    "    pass\n",
    "else:\n",
    "    pass\n",
    "finally:\n",
    "    pass"
   ]
  },
  {
   "cell_type": "raw",
   "metadata": {},
   "source": [
    "An exception is an event, which occurs during the execution of a program that disrupts the normal flow of the program's instructions. In general, when a Python script encounters a situation that it cannot cope with, it raises an exception. An exception is a Python object that represents an error.\n",
    "\n",
    "When a Python script raises an exception, it must either handle the exception immediately otherwise it terminates and quits.\n",
    "\n",
    "0. First try clause is executed i.e. the code between try and except clause.\n",
    "1. If there is no exception, then only try clause will run, except clause is will not run.\n",
    "2. If any exception occured, try clause will be skipped and except clause will run.\n",
    "3. If any exception occurs, but the except clause within the code doesn’t handle it, it is passed on to the else/second except statements. If the exception left unhandled, then the execution stops.\n",
    "4. A try statement can have more than one except clause\n",
    "\n",
    "1.\n",
    "\n",
    "try:\n",
    "   write the code\n",
    "   .....\n",
    "except Exception1:\n",
    "   If there is Exception1, then this block will get execute.\n",
    "except Exception2:\n",
    "   If there is Exception2, then this block will get execute.\n",
    "   .....\n",
    "else:\n",
    "   If there is no exception then execute this block.\n",
    "   \n",
    "2.\n",
    "try:\n",
    "   Write your code here\n",
    "   .....\n",
    "   Due to any exception, this may be skipped.\n",
    "finally:\n",
    "   This would always be executed.\n",
    "   ....."
   ]
  },
  {
   "cell_type": "code",
   "execution_count": 1,
   "metadata": {},
   "outputs": [
    {
     "ename": "ZeroDivisionError",
     "evalue": "division by zero",
     "output_type": "error",
     "traceback": [
      "\u001b[1;31m---------------------------------------------------------------------------\u001b[0m",
      "\u001b[1;31mZeroDivisionError\u001b[0m                         Traceback (most recent call last)",
      "\u001b[1;32mC:\\Users\\KARANM~1\\AppData\\Local\\Temp/ipykernel_13768/2354412189.py\u001b[0m in \u001b[0;36m<module>\u001b[1;34m\u001b[0m\n\u001b[1;32m----> 1\u001b[1;33m \u001b[1;36m1\u001b[0m\u001b[1;33m/\u001b[0m\u001b[1;36m0\u001b[0m\u001b[1;33m\u001b[0m\u001b[1;33m\u001b[0m\u001b[0m\n\u001b[0m",
      "\u001b[1;31mZeroDivisionError\u001b[0m: division by zero"
     ]
    }
   ],
   "source": [
    "1/0"
   ]
  },
  {
   "cell_type": "code",
   "execution_count": 2,
   "metadata": {},
   "outputs": [
    {
     "ename": "TypeError",
     "evalue": "can only concatenate str (not \"int\") to str",
     "output_type": "error",
     "traceback": [
      "\u001b[1;31m---------------------------------------------------------------------------\u001b[0m",
      "\u001b[1;31mTypeError\u001b[0m                                 Traceback (most recent call last)",
      "\u001b[1;32mC:\\Users\\KARANM~1\\AppData\\Local\\Temp/ipykernel_13768/2076713037.py\u001b[0m in \u001b[0;36m<module>\u001b[1;34m\u001b[0m\n\u001b[1;32m----> 1\u001b[1;33m \u001b[1;34m\"abc\"\u001b[0m\u001b[1;33m+\u001b[0m\u001b[1;36m2\u001b[0m\u001b[1;33m\u001b[0m\u001b[1;33m\u001b[0m\u001b[0m\n\u001b[0m",
      "\u001b[1;31mTypeError\u001b[0m: can only concatenate str (not \"int\") to str"
     ]
    }
   ],
   "source": [
    "\"abc\"+2"
   ]
  },
  {
   "cell_type": "code",
   "execution_count": 3,
   "metadata": {},
   "outputs": [
    {
     "ename": "NameError",
     "evalue": "name 'x' is not defined",
     "output_type": "error",
     "traceback": [
      "\u001b[1;31m---------------------------------------------------------------------------\u001b[0m",
      "\u001b[1;31mNameError\u001b[0m                                 Traceback (most recent call last)",
      "\u001b[1;32mC:\\Users\\KARANM~1\\AppData\\Local\\Temp/ipykernel_13768/1353120783.py\u001b[0m in \u001b[0;36m<module>\u001b[1;34m\u001b[0m\n\u001b[1;32m----> 1\u001b[1;33m \u001b[0mprint\u001b[0m\u001b[1;33m(\u001b[0m\u001b[0mx\u001b[0m\u001b[1;33m)\u001b[0m\u001b[1;33m\u001b[0m\u001b[1;33m\u001b[0m\u001b[0m\n\u001b[0m",
      "\u001b[1;31mNameError\u001b[0m: name 'x' is not defined"
     ]
    }
   ],
   "source": [
    "print(x)"
   ]
  },
  {
   "cell_type": "code",
   "execution_count": 133,
   "metadata": {},
   "outputs": [
    {
     "ename": "IndentationError",
     "evalue": "expected an indented block (Temp/ipykernel_13768/2482712213.py, line 3)",
     "output_type": "error",
     "traceback": [
      "\u001b[1;36m  File \u001b[1;32m\"C:\\Users\\KARANM~1\\AppData\\Local\\Temp/ipykernel_13768/2482712213.py\"\u001b[1;36m, line \u001b[1;32m3\u001b[0m\n\u001b[1;33m    print(i)\u001b[0m\n\u001b[1;37m    ^\u001b[0m\n\u001b[1;31mIndentationError\u001b[0m\u001b[1;31m:\u001b[0m expected an indented block\n"
     ]
    }
   ],
   "source": [
    "y=2\n",
    "for i in range(y):\n",
    "print(i)"
   ]
  },
  {
   "cell_type": "code",
   "execution_count": 134,
   "metadata": {},
   "outputs": [
    {
     "ename": "ZeroDivisionError",
     "evalue": "division by zero",
     "output_type": "error",
     "traceback": [
      "\u001b[1;31m---------------------------------------------------------------------------\u001b[0m",
      "\u001b[1;31mZeroDivisionError\u001b[0m                         Traceback (most recent call last)",
      "\u001b[1;32mC:\\Users\\KARANM~1\\AppData\\Local\\Temp/ipykernel_13768/530406163.py\u001b[0m in \u001b[0;36m<module>\u001b[1;34m\u001b[0m\n\u001b[1;32m----> 1\u001b[1;33m \u001b[1;36m10\u001b[0m\u001b[1;33m/\u001b[0m\u001b[1;36m0\u001b[0m\u001b[1;33m\u001b[0m\u001b[1;33m\u001b[0m\u001b[0m\n\u001b[0m",
      "\u001b[1;31mZeroDivisionError\u001b[0m: division by zero"
     ]
    }
   ],
   "source": [
    "10/0"
   ]
  },
  {
   "cell_type": "code",
   "execution_count": 151,
   "metadata": {},
   "outputs": [
    {
     "name": "stdout",
     "output_type": "stream",
     "text": [
      "Please do not concatente Numbers with CHaracter values\n"
     ]
    }
   ],
   "source": [
    "try:\n",
    "    x=\"Good\"+12\n",
    "    print(x)\n",
    "except ZeroDivisionError:\n",
    "    print(\"Please do not divide any number with zero\")\n",
    "except TypeError:\n",
    "    print(\"Please do not concatente Numbers with CHaracter values\")"
   ]
  },
  {
   "cell_type": "code",
   "execution_count": 152,
   "metadata": {},
   "outputs": [
    {
     "ename": "ValueError",
     "evalue": "invalid literal for int() with base 10: 'Karan'",
     "output_type": "error",
     "traceback": [
      "\u001b[1;31m---------------------------------------------------------------------------\u001b[0m",
      "\u001b[1;31mValueError\u001b[0m                                Traceback (most recent call last)",
      "\u001b[1;32mC:\\Users\\KARANM~1\\AppData\\Local\\Temp/ipykernel_13768/2533691360.py\u001b[0m in \u001b[0;36m<module>\u001b[1;34m\u001b[0m\n\u001b[1;32m----> 1\u001b[1;33m \u001b[0mint\u001b[0m\u001b[1;33m(\u001b[0m\u001b[1;34m\"Karan\"\u001b[0m\u001b[1;33m)\u001b[0m\u001b[1;33m\u001b[0m\u001b[1;33m\u001b[0m\u001b[0m\n\u001b[0m",
      "\u001b[1;31mValueError\u001b[0m: invalid literal for int() with base 10: 'Karan'"
     ]
    }
   ],
   "source": [
    "int(\"Karan\")"
   ]
  },
  {
   "cell_type": "code",
   "execution_count": 157,
   "metadata": {},
   "outputs": [
    {
     "name": "stdout",
     "output_type": "stream",
     "text": [
      "Value Error\n"
     ]
    }
   ],
   "source": [
    "try:\n",
    "    int(\"Karan\")\n",
    "except ValueError:\n",
    "    print(\"Value Error\")    "
   ]
  },
  {
   "cell_type": "code",
   "execution_count": 163,
   "metadata": {},
   "outputs": [
    {
     "name": "stdout",
     "output_type": "stream",
     "text": [
      "Please Fill some value inside the Object\n"
     ]
    }
   ],
   "source": [
    "try:\n",
    "    Karan\n",
    "except NameError:\n",
    "    print(\"Please Fill some value inside the Object\")"
   ]
  },
  {
   "cell_type": "code",
   "execution_count": 156,
   "metadata": {},
   "outputs": [
    {
     "name": "stdout",
     "output_type": "stream",
     "text": [
      "Enter your Age: 11\n",
      "TypeError: Please, Don't use Numbers while concatinating the string\n"
     ]
    }
   ],
   "source": [
    "try:\n",
    "    z=input(\"Enter your Age: \")\n",
    "    print(\"Hi \" + int(z),\"Good Afternoon\")\n",
    "except ValueError:\n",
    "    print(\"ValueError: Please don't use any character.\")\n",
    "except TypeError:\n",
    "    print(\"TypeError: Please, Don't use Numbers while concatinating the string\")\n",
    "except ZeroDivisionError:\n",
    "    print(\"Zero Division Error, Please do not divide any numbe with Zero\")"
   ]
  },
  {
   "cell_type": "code",
   "execution_count": 53,
   "metadata": {},
   "outputs": [
    {
     "ename": "SyntaxError",
     "evalue": "invalid syntax (Temp/ipykernel_13768/380873460.py, line 5)",
     "output_type": "error",
     "traceback": [
      "\u001b[1;36m  File \u001b[1;32m\"C:\\Users\\KARANM~1\\AppData\\Local\\Temp/ipykernel_13768/380873460.py\"\u001b[1;36m, line \u001b[1;32m5\u001b[0m\n\u001b[1;33m    except SyntaxError:\u001b[0m\n\u001b[1;37m    ^\u001b[0m\n\u001b[1;31mSyntaxError\u001b[0m\u001b[1;31m:\u001b[0m invalid syntax\n"
     ]
    }
   ],
   "source": [
    "#print(\"Good Morning Karan Today's Date is \"+5+\"May\")\n",
    "#karan\n"
   ]
  },
  {
   "cell_type": "code",
   "execution_count": 168,
   "metadata": {},
   "outputs": [
    {
     "name": "stdout",
     "output_type": "stream",
     "text": [
      "Something went wrong\n"
     ]
    }
   ],
   "source": [
    "try:\n",
    "    print(10/0)\n",
    "    #print(\"Good Morning Karan Today's Date is \"+6+\"May\")\n",
    "    #print(karan)\n",
    "except:\n",
    "    print(\"Something went wrong\")\n",
    "else:\n",
    "    print(\"Everything is right\")"
   ]
  },
  {
   "cell_type": "code",
   "execution_count": null,
   "metadata": {},
   "outputs": [],
   "source": []
  },
  {
   "cell_type": "code",
   "execution_count": 187,
   "metadata": {},
   "outputs": [
    {
     "name": "stdout",
     "output_type": "stream",
     "text": [
      "123Good Morning\n",
      "This is Finally Statement\n",
      "Please provide first Number10\n",
      "Please provide Second Number2\n",
      "12\n",
      "Not Bad\n"
     ]
    }
   ],
   "source": [
    "#Finally will run, if there is an error or not\n",
    "\n",
    "try:\n",
    "    print('123'+\"Good Morning\")\n",
    "except:\n",
    "    print(\"Something went wrong\")\n",
    "finally:\n",
    "    try:\n",
    "        print(\"This is Finally Statement\")\n",
    "        a=int(input(\"Please provide first Number\"))\n",
    "        b=int(input(\"Please provide Second Number\"))\n",
    "    except:\n",
    "        print(\"No Character Values\")\n",
    "    c=a+b\n",
    "    print(c)\n",
    "    if c>20:\n",
    "        print(\"Very Good\")\n",
    "    else:\n",
    "        print(\"Not Bad\")"
   ]
  },
  {
   "cell_type": "code",
   "execution_count": 181,
   "metadata": {},
   "outputs": [
    {
     "name": "stdout",
     "output_type": "stream",
     "text": [
      "20\n"
     ]
    }
   ],
   "source": [
    "print(c)"
   ]
  },
  {
   "cell_type": "code",
   "execution_count": 65,
   "metadata": {},
   "outputs": [
    {
     "ename": "ValueError",
     "evalue": "invalid literal for int() with base 10: 'Hi'",
     "output_type": "error",
     "traceback": [
      "\u001b[1;31m---------------------------------------------------------------------------\u001b[0m",
      "\u001b[1;31mValueError\u001b[0m                                Traceback (most recent call last)",
      "\u001b[1;32mC:\\Users\\KARANM~1\\AppData\\Local\\Temp/ipykernel_13768/2988579635.py\u001b[0m in \u001b[0;36m<module>\u001b[1;34m\u001b[0m\n\u001b[1;32m----> 1\u001b[1;33m \u001b[0mint\u001b[0m\u001b[1;33m(\u001b[0m\u001b[1;34m\"Hi\"\u001b[0m\u001b[1;33m)\u001b[0m\u001b[1;33m\u001b[0m\u001b[1;33m\u001b[0m\u001b[0m\n\u001b[0m",
      "\u001b[1;31mValueError\u001b[0m: invalid literal for int() with base 10: 'Hi'"
     ]
    }
   ],
   "source": [
    "int(\"Hi\")"
   ]
  },
  {
   "cell_type": "code",
   "execution_count": 127,
   "metadata": {},
   "outputs": [
    {
     "name": "stdout",
     "output_type": "stream",
     "text": [
      "Number is Equal to 0\n"
     ]
    }
   ],
   "source": [
    "#Raise will display your own messages while an error occures\n",
    "\n",
    "x=0\n",
    "if x<0:\n",
    "    print(\"Number is Negative\")\n",
    "elif x==0:\n",
    "    print(\"Number is Equal to 0\")\n",
    "else:\n",
    "    raise Exception(\"Please provide a correct information\")"
   ]
  },
  {
   "cell_type": "code",
   "execution_count": 207,
   "metadata": {},
   "outputs": [
    {
     "ename": "NameError",
     "evalue": "name 'e' is not defined",
     "output_type": "error",
     "traceback": [
      "\u001b[1;31m---------------------------------------------------------------------------\u001b[0m",
      "\u001b[1;31mNameError\u001b[0m                                 Traceback (most recent call last)",
      "\u001b[1;32mC:\\Users\\KARANM~1\\AppData\\Local\\Temp/ipykernel_13768/1978532607.py\u001b[0m in \u001b[0;36m<module>\u001b[1;34m\u001b[0m\n\u001b[0;32m      1\u001b[0m \u001b[1;31m#9/0\u001b[0m\u001b[1;33m\u001b[0m\u001b[1;33m\u001b[0m\u001b[0m\n\u001b[0;32m      2\u001b[0m \u001b[1;31m#int(\"Karan\")\u001b[0m\u001b[1;33m\u001b[0m\u001b[1;33m\u001b[0m\u001b[0m\n\u001b[1;32m----> 3\u001b[1;33m \u001b[0me\u001b[0m\u001b[1;33m\u001b[0m\u001b[1;33m\u001b[0m\u001b[0m\n\u001b[0m",
      "\u001b[1;31mNameError\u001b[0m: name 'e' is not defined"
     ]
    }
   ],
   "source": [
    "#9/0\n",
    "#int(\"Karan\")\n",
    "e"
   ]
  },
  {
   "cell_type": "code",
   "execution_count": 223,
   "metadata": {},
   "outputs": [
    {
     "name": "stdout",
     "output_type": "stream",
     "text": [
      "Enter Number1: karan\n",
      "Enter Number2: 20\n",
      "Sorry, Exception Occured invalid literal for int() with base 10: 'karan'\n",
      "None\n"
     ]
    }
   ],
   "source": [
    "#Generic Exception\n",
    "\n",
    "x=input(\"Enter Number1: \")\n",
    "y=input(\"Enter Number2: \")\n",
    "try:\n",
    "    z=int(x)/int(y)\n",
    "except Exception as eee:\n",
    "    print(\"Sorry, Exception Occured\",eee)\n",
    "    z=None\n",
    "print(z)\n"
   ]
  },
  {
   "cell_type": "code",
   "execution_count": null,
   "metadata": {},
   "outputs": [],
   "source": [
    "2/int(\"karan\")"
   ]
  },
  {
   "cell_type": "code",
   "execution_count": null,
   "metadata": {},
   "outputs": [],
   "source": [
    "#Specifically catching an exception\n",
    "    \n",
    "x=input(\"Enter Number1: \")\n",
    "y=input(\"Enter Number2: \")\n",
    "try:\n",
    "    z=int(x)/int(y)\n",
    "except ZeroDivisionError as e:\n",
    "    print(\"Division by Zero Exception, please do not use 0 in Denominator\")\n",
    "    z=None\n",
    "except ValueError as e:\n",
    "    print(\"Division by Value Exception, please do not use a String in Denominator/Numerator\",e)\n",
    "    z=None\n",
    "except Exception as a:\n",
    "    print(\"You are not doing calculations Right\",a)\n",
    "\n",
    "print(z)\n"
   ]
  },
  {
   "cell_type": "code",
   "execution_count": null,
   "metadata": {},
   "outputs": [],
   "source": [
    "#Specifically catching an exception\n",
    "\n",
    "x=input(\"Enter Number1: \")\n",
    "y=input(\"Enter Number2: \")\n",
    "try:\n",
    "    z=int(x)/int(y)\n",
    "except ZeroDivisionError as earth1:\n",
    "    print(\"Division by Zero Exception\",earth1)\n",
    "    z=None\n",
    "except Exception as earth:\n",
    "    print(\"Type Error, please do not use character words\",earth)\n",
    "    Z=None\n",
    "print(z)\n",
    "pg 102-110"
   ]
  },
  {
   "cell_type": "code",
   "execution_count": null,
   "metadata": {},
   "outputs": [],
   "source": [
    "#Different kind of Errors/ Exercise\n",
    "\n",
    "#L = [1, 2, 3]\n",
    "#L[1000]\n",
    "#l[1]   #small l[1]\n",
    "#L[\"K\"/0]\n",
    "\n",
    "2.####\n",
    "\n",
    "L={\"Name\":[\"Karan\",\"Sumit\",\"Jack\",\"John\"],\"Age\":[24,25,26,27]}\n",
    "#L[0]\n",
    "#L[\"Name\"][3]\n",
    "#L[\"Name\"]+float([245])\n",
    "L[\"Age\"][2]/0\n",
    "\n",
    "#Write the try and except code while making sure that all the necessrary errors are handled and also execute Finally code\n",
    "# with a small loop of \"Thank you\" message, make sure that Thank you message is + in the empty list.\n",
    "\n",
    "[\"T\",\"H\",\"A\",\"N\"]\n",
    "[\"Thank you\"]\n",
    "\n",
    "\n",
    "\n",
    "\n"
   ]
  },
  {
   "cell_type": "code",
   "execution_count": null,
   "metadata": {},
   "outputs": [],
   "source": [
    "s=[]\n",
    "for i in \"Thank you\":\n",
    "print(s)\n",
    "\n"
   ]
  },
  {
   "cell_type": "markdown",
   "metadata": {},
   "source": [
    "# Good Job!"
   ]
  }
 ],
 "metadata": {
  "kernelspec": {
   "display_name": "Python 3 (ipykernel)",
   "language": "python",
   "name": "python3"
  },
  "language_info": {
   "codemirror_mode": {
    "name": "ipython",
    "version": 3
   },
   "file_extension": ".py",
   "mimetype": "text/x-python",
   "name": "python",
   "nbconvert_exporter": "python",
   "pygments_lexer": "ipython3",
   "version": "3.9.7"
  }
 },
 "nbformat": 4,
 "nbformat_minor": 2
}
