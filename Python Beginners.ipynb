{
 "cells": [
  {
   "cell_type": "markdown",
   "metadata": {},
   "source": [
    "# Data type"
   ]
  },
  {
   "cell_type": "markdown",
   "metadata": {},
   "source": [
    "Data Structures - \n",
    "1. Lists\n",
    "2. Dictionary\n",
    "3. Sets \n",
    "4. Tuples\n"
   ]
  },
  {
   "cell_type": "markdown",
   "metadata": {},
   "source": [
    "Lists [ ] - They are the Data Structures that holds any kind(numeric values, string/text values, float values, etc..) of data, and we can also store nested list values. Lists are mutable(changable), that means we can change the values, also we can remove the values.\n",
    "\n",
    "Dictionary {\"key1\":\"[Values1,value2,value3.....]\"} ----\n",
    "{\"key1\":\"Value1\",\"key2\":\"value2\",\"key3\":[\"Value1\",\"Value2\",......]\n",
    "- Dicitonary is also a kind of data structure , where we need to define keys and values seperately . Dictionary are also mutable, but we need to specify the key, if we want to change the value\n",
    "\n",
    "Sets {1,2,3,4,5,2,3,5,6 } - The property of the sets is they will only display the unique values. They are not mutable, that means we cannot change the values.\n",
    "\n",
    "Tuple ( ) - Tuples are very similar to lists, that means we can store any kind of value we want, Tuples also support nested tuples, But the major difference between tuple and lists is, Tuples are immutable(values cannot be changed)."
   ]
  },
  {
   "cell_type": "code",
   "execution_count": null,
   "metadata": {},
   "outputs": [],
   "source": [
    "#Tuples\n",
    "\n",
    "star=(1,2,3,4,1,2,5,6,2,3,4,5)\n",
    "star"
   ]
  },
  {
   "cell_type": "code",
   "execution_count": null,
   "metadata": {},
   "outputs": [],
   "source": [
    "type(star)\n",
    "#len(star)"
   ]
  },
  {
   "cell_type": "code",
   "execution_count": null,
   "metadata": {},
   "outputs": [],
   "source": [
    "star"
   ]
  },
  {
   "cell_type": "code",
   "execution_count": null,
   "metadata": {},
   "outputs": [],
   "source": [
    "5+25"
   ]
  },
  {
   "cell_type": "code",
   "execution_count": null,
   "metadata": {},
   "outputs": [],
   "source": [
    "\"Hi everyone @@@@@##$!$!$%%$!$!and welcome to today's session\""
   ]
  },
  {
   "cell_type": "code",
   "execution_count": null,
   "metadata": {},
   "outputs": [],
   "source": [
    "2 / 4"
   ]
  },
  {
   "cell_type": "code",
   "execution_count": null,
   "metadata": {},
   "outputs": [],
   "source": [
    "print(10+10)\n",
    "#print(\"Good Afternoon\")\n",
    "print(25+5)\n",
    "\"hello World\""
   ]
  },
  {
   "cell_type": "code",
   "execution_count": null,
   "metadata": {},
   "outputs": [],
   "source": [
    "#Squaring the Number\n",
    "\n",
    "5*5*5*5*5\n",
    "5**5"
   ]
  },
  {
   "cell_type": "code",
   "execution_count": null,
   "metadata": {},
   "outputs": [],
   "source": [
    "14 % 2"
   ]
  },
  {
   "cell_type": "code",
   "execution_count": null,
   "metadata": {},
   "outputs": [],
   "source": [
    "7 % 2"
   ]
  },
  {
   "cell_type": "code",
   "execution_count": null,
   "metadata": {},
   "outputs": [],
   "source": [
    "(25 + 29) * (12 + 29) + (121+345) + (988+922) - (185*455) / (25+976)-(623+294)"
   ]
  },
  {
   "cell_type": "markdown",
   "metadata": {},
   "source": [
    "# Variable Assignment"
   ]
  },
  {
   "cell_type": "markdown",
   "metadata": {},
   "source": [
    "# Part of exercise - please assign new variable names while including below given symbols                  \n",
    "\n",
    ":'\",<>/?|\\!@#%^&*~-+"
   ]
  },
  {
   "cell_type": "code",
   "execution_count": null,
   "metadata": {},
   "outputs": [],
   "source": [
    "# Can not start with number or special characters\n",
    "car = 2"
   ]
  },
  {
   "cell_type": "code",
   "execution_count": null,
   "metadata": {},
   "outputs": [],
   "source": [
    "car"
   ]
  },
  {
   "cell_type": "code",
   "execution_count": null,
   "metadata": {},
   "outputs": [],
   "source": [
    "x\n",
    "\n",
    "z"
   ]
  },
  {
   "cell_type": "code",
   "execution_count": null,
   "metadata": {},
   "outputs": [],
   "source": [
    "x = 20\n",
    "y = 3"
   ]
  },
  {
   "cell_type": "code",
   "execution_count": null,
   "metadata": {},
   "outputs": [],
   "source": [
    "z = x + y\n",
    "z"
   ]
  },
  {
   "cell_type": "code",
   "execution_count": null,
   "metadata": {},
   "outputs": [],
   "source": [
    "z=\"Karan\"\n",
    "z\n"
   ]
  },
  {
   "cell_type": "markdown",
   "metadata": {},
   "source": [
    "# Strings"
   ]
  },
  {
   "cell_type": "code",
   "execution_count": null,
   "metadata": {},
   "outputs": [],
   "source": [
    "'single quotes'"
   ]
  },
  {
   "cell_type": "code",
   "execution_count": null,
   "metadata": {},
   "outputs": [],
   "source": [
    "\"double quotes\""
   ]
  },
  {
   "cell_type": "code",
   "execution_count": null,
   "metadata": {},
   "outputs": [],
   "source": [
    "\"Today's !@#$%^&*(())session is at 4pm\""
   ]
  },
  {
   "cell_type": "code",
   "execution_count": null,
   "metadata": {},
   "outputs": [],
   "source": [
    "\" Hello 55 World @!?? 87'6 efgdtrs 5453 ghftrfs \""
   ]
  },
  {
   "cell_type": "code",
   "execution_count": null,
   "metadata": {},
   "outputs": [],
   "source": [
    "'He Said.\"Hello\"'"
   ]
  },
  {
   "cell_type": "markdown",
   "metadata": {},
   "source": [
    "### Printing"
   ]
  },
  {
   "cell_type": "code",
   "execution_count": null,
   "metadata": {},
   "outputs": [],
   "source": [
    "x = 242424\n",
    "x"
   ]
  },
  {
   "cell_type": "code",
   "execution_count": null,
   "metadata": {},
   "outputs": [],
   "source": [
    "print(x)"
   ]
  },
  {
   "cell_type": "markdown",
   "metadata": {},
   "source": [
    "# Create a sentence where the outpt will generate name of the person, desingation, age, gender and salary"
   ]
  },
  {
   "cell_type": "code",
   "execution_count": 43,
   "metadata": {},
   "outputs": [],
   "source": [
    "num = 12\n",
    "name = \"Sam\"\n",
    "num1=23\n",
    "name1=\"John\"\n",
    "num2=25\n",
    "name2=\"Sandy\"\n"
   ]
  },
  {
   "cell_type": "code",
   "execution_count": 45,
   "metadata": {},
   "outputs": [],
   "source": [
    "abc=\"Karan\"\n",
    "zxc=\"Deep Learning\""
   ]
  },
  {
   "cell_type": "code",
   "execution_count": 49,
   "metadata": {},
   "outputs": [
    {
     "name": "stdout",
     "output_type": "stream",
     "text": [
      "Hi Hritik! Nice to meet you Hritik and welcome to Machine Learning session\n"
     ]
    }
   ],
   "source": [
    "print(\"Hi {star}! Nice to meet you {star} and welcome to {fish} session\".format(star=\"Hritik\",fish=\"Machine Learning\"))"
   ]
  },
  {
   "cell_type": "code",
   "execution_count": 50,
   "metadata": {},
   "outputs": [
    {
     "name": "stdout",
     "output_type": "stream",
     "text": [
      "My Age is: 25, and my Name is: Sam\n"
     ]
    }
   ],
   "source": [
    "print('My Age is: {one}, and my Name is: {two}'.format(one=num2,two=name))"
   ]
  },
  {
   "cell_type": "code",
   "execution_count": 51,
   "metadata": {},
   "outputs": [
    {
     "name": "stdout",
     "output_type": "stream",
     "text": [
      "My Age is: 23, and my name is: Sam. The class will start @ 12:00 pm\n"
     ]
    }
   ],
   "source": [
    "print('My Age is: {}, and my name is: {}. The class will start @ {}:00 pm'.format(num1,name,num))"
   ]
  },
  {
   "cell_type": "markdown",
   "metadata": {},
   "source": [
    "### Lists"
   ]
  },
  {
   "cell_type": "code",
   "execution_count": null,
   "metadata": {},
   "outputs": [],
   "source": [
    "len([1,2,3])\n",
    "['hi',1,[1,2],(1,3)]"
   ]
  },
  {
   "cell_type": "code",
   "execution_count": null,
   "metadata": {},
   "outputs": [],
   "source": [
    "sun=[\"Moon\",\"Earth\",\"Mars\"]\n",
    "sun"
   ]
  },
  {
   "cell_type": "markdown",
   "metadata": {},
   "source": [
    "## Extend Function"
   ]
  },
  {
   "cell_type": "code",
   "execution_count": null,
   "metadata": {},
   "outputs": [],
   "source": [
    "sun.extend([\"Neptune\",\"Saturn\",\"Uranus\"])\n",
    "sun"
   ]
  },
  {
   "cell_type": "markdown",
   "metadata": {},
   "source": [
    "## Append Function"
   ]
  },
  {
   "cell_type": "code",
   "execution_count": null,
   "metadata": {},
   "outputs": [],
   "source": [
    "#sun.append(\"Jupiter\")\n",
    "sun.append([\"Pluto\",\"Neptune\"])\n",
    "sun"
   ]
  },
  {
   "cell_type": "markdown",
   "metadata": {},
   "source": [
    "## Insert Function"
   ]
  },
  {
   "cell_type": "code",
   "execution_count": null,
   "metadata": {},
   "outputs": [],
   "source": [
    "sun=[\"Moon\",\"Earth\",\"Mars\"]\n",
    "sun.extend([\"Neptune\",\"Saturn\",\"Uranus\"])\n",
    "sun"
   ]
  },
  {
   "cell_type": "code",
   "execution_count": null,
   "metadata": {},
   "outputs": [],
   "source": [
    "#Index Position Number\n",
    "sun.insert(5,[\"Solar System\",\"Pluto\",\"Galaxy\"])\n",
    "sun"
   ]
  },
  {
   "cell_type": "markdown",
   "metadata": {},
   "source": [
    "# Deletion of Lists"
   ]
  },
  {
   "cell_type": "markdown",
   "metadata": {},
   "source": [
    "## del"
   ]
  },
  {
   "cell_type": "code",
   "execution_count": null,
   "metadata": {},
   "outputs": [],
   "source": [
    "del sun"
   ]
  },
  {
   "cell_type": "code",
   "execution_count": null,
   "metadata": {},
   "outputs": [],
   "source": [
    "sun"
   ]
  },
  {
   "cell_type": "markdown",
   "metadata": {},
   "source": [
    "## remove"
   ]
  },
  {
   "cell_type": "code",
   "execution_count": null,
   "metadata": {},
   "outputs": [],
   "source": [
    "sun.remove(\"Moon\")\n",
    "sun"
   ]
  },
  {
   "cell_type": "markdown",
   "metadata": {},
   "source": [
    "## pop"
   ]
  },
  {
   "cell_type": "code",
   "execution_count": null,
   "metadata": {},
   "outputs": [],
   "source": [
    "sun.pop(2)\n",
    "sun"
   ]
  },
  {
   "cell_type": "code",
   "execution_count": null,
   "metadata": {},
   "outputs": [],
   "source": [
    "my_list = ['a','b','c']\n",
    "my_list\n",
    "len(my_list)\n",
    "type(my_list)"
   ]
  },
  {
   "cell_type": "code",
   "execution_count": null,
   "metadata": {},
   "outputs": [],
   "source": [
    "#Append adds a new element into the pre-existing object/variable\n",
    "my_list.append('d')\n",
    "my_list.append('1')\n",
    "my_list.append(\"K\")\n",
    "my_list.append([\"Karan\",\"Mehta\",\"Hi\"])\n",
    "my_list.append([\"T\",\"H\"])"
   ]
  },
  {
   "cell_type": "code",
   "execution_count": null,
   "metadata": {},
   "outputs": [],
   "source": [
    "my_list"
   ]
  },
  {
   "cell_type": "code",
   "execution_count": null,
   "metadata": {},
   "outputs": [],
   "source": [
    "my_list[6][1]"
   ]
  },
  {
   "cell_type": "code",
   "execution_count": null,
   "metadata": {},
   "outputs": [],
   "source": [
    "my_list[4]=\"New Delhi\""
   ]
  },
  {
   "cell_type": "code",
   "execution_count": null,
   "metadata": {},
   "outputs": [],
   "source": [
    "my_list"
   ]
  },
  {
   "cell_type": "code",
   "execution_count": null,
   "metadata": {},
   "outputs": [],
   "source": [
    "#Object Slicing\n",
    "my_list[6][0][2]"
   ]
  },
  {
   "cell_type": "code",
   "execution_count": null,
   "metadata": {},
   "outputs": [],
   "source": [
    "#Negative Object Slicing\n",
    "my_list[-6]"
   ]
  },
  {
   "cell_type": "code",
   "execution_count": null,
   "metadata": {},
   "outputs": [],
   "source": [
    "my_list[-3]\n",
    "my_list"
   ]
  },
  {
   "cell_type": "code",
   "execution_count": null,
   "metadata": {},
   "outputs": [],
   "source": [
    "#Sequence\n",
    "my_list[:5]"
   ]
  },
  {
   "cell_type": "code",
   "execution_count": null,
   "metadata": {},
   "outputs": [],
   "source": [
    "my_list[:7]\n",
    "my_list[2:]\n",
    "my_list[2:5]\n",
    "my_list"
   ]
  },
  {
   "cell_type": "code",
   "execution_count": null,
   "metadata": {},
   "outputs": [],
   "source": [
    "#Replacing List Element\n",
    "my_list[6] = 'Python'\n",
    "my_list[7][0]=\"Tree\"\n",
    "my_list[7][1]=\"Hat\""
   ]
  },
  {
   "cell_type": "code",
   "execution_count": null,
   "metadata": {},
   "outputs": [],
   "source": [
    "my_list"
   ]
  },
  {
   "cell_type": "code",
   "execution_count": null,
   "metadata": {},
   "outputs": [],
   "source": [
    "#Nesting List\n",
    "nest = [1,2,3,[4,5,['target',\"Hello\",\"Hi\"]]]\n",
    "nest"
   ]
  },
  {
   "cell_type": "code",
   "execution_count": null,
   "metadata": {},
   "outputs": [],
   "source": [
    "#nest[3][2][1]\n",
    "smoke"
   ]
  },
  {
   "cell_type": "code",
   "execution_count": null,
   "metadata": {},
   "outputs": [],
   "source": [
    "#(wills from the sentence, 10 Minutes, exercise, of time, Welcome, performing a simple)"
   ]
  },
  {
   "cell_type": "code",
   "execution_count": null,
   "metadata": {},
   "outputs": [],
   "source": [
    "#Appending a new element into a nested list\n",
    "nest[3][2].append(\"Earth\")"
   ]
  },
  {
   "cell_type": "code",
   "execution_count": null,
   "metadata": {},
   "outputs": [],
   "source": [
    "#Only require\n",
    "smoke[1][6]"
   ]
  },
  {
   "cell_type": "code",
   "execution_count": null,
   "metadata": {},
   "outputs": [],
   "source": [
    "nest[3][2][1]"
   ]
  },
  {
   "cell_type": "code",
   "execution_count": null,
   "metadata": {},
   "outputs": [],
   "source": [
    "smoke=[\"Hi Guys\",[\"Welcome\",\"to\",\"this Session\",[\"We\",\"will\",\"be\",\"performing a simple\",\"exercise\"],\"that\",\"will\",\"only require\",\"10 Minutes\"],\"of time\"]\n",
    "smoke"
   ]
  },
  {
   "cell_type": "code",
   "execution_count": null,
   "metadata": {
    "scrolled": true
   },
   "outputs": [],
   "source": [
    "smoke[1][4]"
   ]
  },
  {
   "cell_type": "code",
   "execution_count": null,
   "metadata": {},
   "outputs": [],
   "source": [
    "#(wills from the sentence, 10 Minutes, exercise, of time, Welcome and performing a simple)"
   ]
  },
  {
   "cell_type": "code",
   "execution_count": null,
   "metadata": {},
   "outputs": [],
   "source": [
    "print(smoke[1][3][1], smoke[1][5], smoke[1][7], smoke[1][3][4], smoke[2], smoke[1][0], smoke[1][3][3])"
   ]
  },
  {
   "cell_type": "code",
   "execution_count": null,
   "metadata": {},
   "outputs": [],
   "source": [
    "smoke"
   ]
  },
  {
   "cell_type": "code",
   "execution_count": null,
   "metadata": {},
   "outputs": [],
   "source": [
    "# 10 Minutes\n",
    "\n",
    "smoke[1][7]"
   ]
  },
  {
   "cell_type": "code",
   "execution_count": null,
   "metadata": {},
   "outputs": [],
   "source": [
    "# exercise\n",
    "\n",
    "smoke[1][3][4]"
   ]
  },
  {
   "cell_type": "code",
   "execution_count": null,
   "metadata": {},
   "outputs": [],
   "source": [
    "#of time\n",
    "smoke[2]\n"
   ]
  },
  {
   "cell_type": "code",
   "execution_count": null,
   "metadata": {},
   "outputs": [],
   "source": [
    "#Welcome\n",
    "\n",
    "smoke[1][0]"
   ]
  },
  {
   "cell_type": "code",
   "execution_count": null,
   "metadata": {},
   "outputs": [],
   "source": [
    "#performing a simple\n",
    "\n",
    "smoke[1][3][3]"
   ]
  },
  {
   "cell_type": "markdown",
   "metadata": {},
   "source": [
    "### Dictionaries"
   ]
  },
  {
   "cell_type": "code",
   "execution_count": null,
   "metadata": {},
   "outputs": [],
   "source": [
    "d = {'key1':'item1','key2':'item2',\"key3\":[\"item1\",\"item2\",\"item3\"]}\n",
    "type(d)"
   ]
  },
  {
   "cell_type": "code",
   "execution_count": null,
   "metadata": {},
   "outputs": [],
   "source": [
    "d[\"key3\"]"
   ]
  },
  {
   "cell_type": "code",
   "execution_count": null,
   "metadata": {},
   "outputs": [],
   "source": [
    "type(d)\n",
    "d[\"key3\"][0]=\"Karan\"\n",
    "#d[\"key2\"]=\"Friday\"\n",
    "d"
   ]
  },
  {
   "cell_type": "code",
   "execution_count": null,
   "metadata": {},
   "outputs": [],
   "source": [
    "d1={\"Name\":[\"Ram\",\"Shyam\",\"Joseph\",\"Jerry\"],\"Age\":[23,24,26,25],\"Location\":[\"Delhi\",\"Mumbai\",\"Chennai\",\"Pune\"]}\n",
    "d1"
   ]
  },
  {
   "cell_type": "code",
   "execution_count": null,
   "metadata": {},
   "outputs": [],
   "source": [
    "import pandas as pd\n",
    "pd.DataFrame(d1)"
   ]
  },
  {
   "cell_type": "code",
   "execution_count": null,
   "metadata": {},
   "outputs": [],
   "source": [
    "Saturday=[\n",
    "    [\"p0\",\"q1\",1,2],\n",
    "    [\"p1\",\"q2\",3,4],\n",
    "    [\"p2\",\"q3\",5,6],\n",
    "    [\"p3\",\"q4\",7,8]\n",
    "]\n",
    "type(Saturday)"
   ]
  },
  {
   "cell_type": "code",
   "execution_count": null,
   "metadata": {},
   "outputs": [],
   "source": [
    "import pandas as pd\n",
    "pd.DataFrame(Saturday)\n"
   ]
  },
  {
   "cell_type": "code",
   "execution_count": null,
   "metadata": {},
   "outputs": [],
   "source": [
    "import pandas as pd\n",
    "star=pd.DataFrame(Saturday)\n",
    "star\n",
    "#install is not recognzed as in internal or external command"
   ]
  },
  {
   "cell_type": "code",
   "execution_count": null,
   "metadata": {},
   "outputs": [],
   "source": [
    "Saturday=pd.DataFrame(Saturday)\n",
    "Saturday"
   ]
  },
  {
   "cell_type": "code",
   "execution_count": null,
   "metadata": {},
   "outputs": [],
   "source": [
    "star=star.append({\"Name\":\"TOM\",\"Age\":29,\"Location\":\"Bihar\"},ignore_index=True)"
   ]
  },
  {
   "cell_type": "code",
   "execution_count": null,
   "metadata": {},
   "outputs": [],
   "source": [
    "star"
   ]
  },
  {
   "cell_type": "code",
   "execution_count": null,
   "metadata": {},
   "outputs": [],
   "source": [
    "star"
   ]
  },
  {
   "cell_type": "code",
   "execution_count": null,
   "metadata": {},
   "outputs": [],
   "source": [
    "d1"
   ]
  },
  {
   "cell_type": "code",
   "execution_count": null,
   "metadata": {},
   "outputs": [],
   "source": [
    "#Accesing elements with key\n",
    "print(d1[\"Name\"])\n",
    "print(d1[\"Age\"])\n",
    "print(d1[\"Location\"])"
   ]
  },
  {
   "cell_type": "code",
   "execution_count": null,
   "metadata": {},
   "outputs": [],
   "source": [
    "d1\n",
    "what files?"
   ]
  },
  {
   "cell_type": "code",
   "execution_count": null,
   "metadata": {},
   "outputs": [],
   "source": [
    "#Checkinf if Dictionary contains the key[\"Numeric\"  and \"Character\" Keys]\n",
    "\"Name\" in d1\n",
    "\"Salary\" in d1\n",
    "\"Location\" in d1\n",
    "d1"
   ]
  },
  {
   "cell_type": "code",
   "execution_count": null,
   "metadata": {
    "scrolled": true
   },
   "outputs": [],
   "source": [
    "#Inserting new key and value\n",
    "d1[\"Sun\"]=[\"Moon\",\"Earth\",\"Mercury\",\"Venus\",\"Mars\",123]\n",
    "d1"
   ]
  },
  {
   "cell_type": "code",
   "execution_count": null,
   "metadata": {},
   "outputs": [],
   "source": [
    "#Inserting a new Numeric Key and value\n",
    "d1[786]=[100,150,200]\n",
    "d1"
   ]
  },
  {
   "cell_type": "code",
   "execution_count": null,
   "metadata": {},
   "outputs": [],
   "source": [
    "raw={\"Sun\":[\"Moon\",\"Earth\",\"Mercury\",\"Venus\",\"Mars\"]}\n",
    "type(raw)"
   ]
  },
  {
   "cell_type": "code",
   "execution_count": null,
   "metadata": {},
   "outputs": [],
   "source": [
    "#replacing the elements/values\n",
    "raw[\"Sun\"]=[\"Ram\",\"Shyam\",\"Mohan\"]\n",
    "raw"
   ]
  },
  {
   "cell_type": "code",
   "execution_count": null,
   "metadata": {},
   "outputs": [],
   "source": [
    "raw[\"Sun\"].append([\"jupyter\",\"moon\"])\n",
    "raw"
   ]
  },
  {
   "cell_type": "code",
   "execution_count": null,
   "metadata": {},
   "outputs": [],
   "source": [
    "#Appending the new values\n",
    "#Whether the append function works with Dictionary or not?\n",
    "raw[\"Sun\"].extend([\"Jupyter\",\"Moon\"])\n",
    "raw\n",
    "#Update and Insert, extend"
   ]
  },
  {
   "cell_type": "code",
   "execution_count": null,
   "metadata": {},
   "outputs": [],
   "source": [
    "raw"
   ]
  },
  {
   "cell_type": "code",
   "execution_count": null,
   "metadata": {},
   "outputs": [],
   "source": [
    "#Deleting whole dictionary\n",
    "del d1\n",
    "d1\n",
    "# If you have executed this command the whole object will get removed To work again with the dictionary object please-\n",
    "#-execute the d1 commands from beginning."
   ]
  },
  {
   "cell_type": "code",
   "execution_count": null,
   "metadata": {},
   "outputs": [],
   "source": [
    "d1={\"Name\":[\"Karan\",\"Karan1\",\"Karan2\",\"Karan3\"],\"Age\":[23,24,25,26],\"Location\":[\"Delhi\",\"Mumbai\",\"Chennai\",\"Pune\"]}\n",
    "d1"
   ]
  },
  {
   "cell_type": "code",
   "execution_count": null,
   "metadata": {},
   "outputs": [],
   "source": [
    "#Deleting key in Dictionary but first again run the codes\n",
    "del d1[\"Age\"]\n",
    "d1"
   ]
  },
  {
   "cell_type": "code",
   "execution_count": null,
   "metadata": {},
   "outputs": [],
   "source": [
    "#Removing values in Key\n",
    "del d1[\"Name\"][0]\n",
    "d1\n",
    "#Type the Output in chat box"
   ]
  },
  {
   "cell_type": "code",
   "execution_count": 2,
   "metadata": {},
   "outputs": [
    {
     "name": "stdout",
     "output_type": "stream",
     "text": [
      "karan\n"
     ]
    },
    {
     "data": {
      "text/plain": [
       "'karan'"
      ]
     },
     "execution_count": 2,
     "metadata": {},
     "output_type": "execute_result"
    }
   ],
   "source": [
    "#d1\n",
    "\n",
    "input()"
   ]
  },
  {
   "cell_type": "markdown",
   "metadata": {},
   "source": [
    "# Input"
   ]
  },
  {
   "cell_type": "code",
   "execution_count": 5,
   "metadata": {},
   "outputs": [
    {
     "name": "stdout",
     "output_type": "stream",
     "text": [
      "What's your name Karan\n",
      "What's your age 12\n",
      "\n",
      "\n",
      "Hi! Karan Welcome and your age is  12\n"
     ]
    }
   ],
   "source": [
    "name=input(\"What's your name \")\n",
    "age=int(input(\"What's your age \"))\n",
    "print(\"\\n\")\n",
    "print(\"Hi!\",name,\"Welcome and your age is \",age)"
   ]
  },
  {
   "cell_type": "code",
   "execution_count": null,
   "metadata": {},
   "outputs": [],
   "source": [
    "name=input(\"What's your name \")\n",
    "age=int(input(\"WHat's your age \"))\n",
    "salary=int(input(\"What's your salary \"))\n",
    "print(\"\\n\")\n",
    "print(\"Hi!, your name is \",name,\"\\n\",\"Your age is\",age,\"\\n\",\"Your salary is\",salary,\"\\n\",\"Thank you\",\"and Nice to meet you\")\n",
    "\n",
    "#Name, Age, Salary, Location, Address, Phone Number, Account Number(10 Digit), AAdharCard(), State."
   ]
  },
  {
   "cell_type": "code",
   "execution_count": null,
   "metadata": {},
   "outputs": [],
   "source": [
    "int(str(18))\n",
    "int(\"Karan\")"
   ]
  },
  {
   "cell_type": "code",
   "execution_count": null,
   "metadata": {},
   "outputs": [],
   "source": [
    "#list\n",
    "list1=[23,45,56,78,90,32,54,76,89,0,21,12,101,151,134,3,4,5]\n",
    "#sort()\n",
    "#sorted()"
   ]
  },
  {
   "cell_type": "code",
   "execution_count": null,
   "metadata": {},
   "outputs": [],
   "source": [
    "list1.sort(reverse=True)\n",
    "list1"
   ]
  },
  {
   "cell_type": "code",
   "execution_count": null,
   "metadata": {},
   "outputs": [],
   "source": [
    "sorted(list1,reverse=True)"
   ]
  },
  {
   "cell_type": "code",
   "execution_count": null,
   "metadata": {},
   "outputs": [],
   "source": [
    "list1"
   ]
  },
  {
   "cell_type": "markdown",
   "metadata": {},
   "source": [
    "### Booleans"
   ]
  },
  {
   "cell_type": "code",
   "execution_count": null,
   "metadata": {},
   "outputs": [],
   "source": [
    "True"
   ]
  },
  {
   "cell_type": "code",
   "execution_count": null,
   "metadata": {},
   "outputs": [],
   "source": [
    "False"
   ]
  },
  {
   "cell_type": "markdown",
   "metadata": {},
   "source": [
    "### Tuples \n",
    "\n",
    "1. ( )\n",
    "2. tuple()"
   ]
  },
  {
   "cell_type": "code",
   "execution_count": 30,
   "metadata": {},
   "outputs": [
    {
     "data": {
      "text/plain": [
       "(1, 2, 3, 'Hi', [1, 2, 3, 4])"
      ]
     },
     "execution_count": 30,
     "metadata": {},
     "output_type": "execute_result"
    }
   ],
   "source": [
    "t = (1,2,3,\"Hi\",[1,2,3,4])\n",
    "t"
   ]
  },
  {
   "cell_type": "code",
   "execution_count": 29,
   "metadata": {},
   "outputs": [
    {
     "data": {
      "text/plain": [
       "tuple"
      ]
     },
     "execution_count": 29,
     "metadata": {},
     "output_type": "execute_result"
    }
   ],
   "source": [
    "type(t1)"
   ]
  },
  {
   "cell_type": "code",
   "execution_count": 14,
   "metadata": {},
   "outputs": [
    {
     "data": {
      "text/plain": [
       "[1, 2, 3, 44, 5]"
      ]
     },
     "execution_count": 14,
     "metadata": {},
     "output_type": "execute_result"
    }
   ],
   "source": [
    "new=[1,2,3,4,5]\n",
    "new\n",
    "new[3]=44\n",
    "new"
   ]
  },
  {
   "cell_type": "code",
   "execution_count": 16,
   "metadata": {},
   "outputs": [
    {
     "data": {
      "text/plain": [
       "(1, 2, 3, 'Hi', [1, 2, 3, 4])"
      ]
     },
     "execution_count": 16,
     "metadata": {},
     "output_type": "execute_result"
    }
   ],
   "source": [
    "t"
   ]
  },
  {
   "cell_type": "code",
   "execution_count": null,
   "metadata": {},
   "outputs": [],
   "source": [
    "#type(t)\n",
    "t[0]\n",
    "z=list(t)\n",
    "z[0]=222\n",
    "z\n",
    "r=tuple(z)\n",
    "r"
   ]
  },
  {
   "cell_type": "code",
   "execution_count": null,
   "metadata": {},
   "outputs": [],
   "source": [
    "t\n",
    "tuple()\n",
    "list()\n",
    "set()\n",
    "dict()"
   ]
  },
  {
   "cell_type": "code",
   "execution_count": null,
   "metadata": {},
   "outputs": [],
   "source": [
    "list1=list(t)\n",
    "list1"
   ]
  },
  {
   "cell_type": "code",
   "execution_count": null,
   "metadata": {},
   "outputs": [],
   "source": [
    "#From Hi to Bye\n",
    "#list1[3]=\"Bye\"\n",
    "tuple(list1)\n",
    "#Index Position Number"
   ]
  },
  {
   "cell_type": "code",
   "execution_count": null,
   "metadata": {},
   "outputs": [],
   "source": [
    "list1[4][2]=\"Good\"\n",
    "print(list1)"
   ]
  },
  {
   "cell_type": "code",
   "execution_count": null,
   "metadata": {},
   "outputs": [],
   "source": [
    "#Nested Tuple\n",
    "nested_tup=(4,5,6,(7,8))\n",
    "nested_tup\n",
    "#try the slicing exercise with nested tuples"
   ]
  },
  {
   "cell_type": "code",
   "execution_count": null,
   "metadata": {},
   "outputs": [],
   "source": [
    "nested_tup[3][1]"
   ]
  },
  {
   "cell_type": "code",
   "execution_count": null,
   "metadata": {},
   "outputs": [],
   "source": [
    "#Converting any string or sequence into the tuple\n",
    "tup=tuple([1,2,3,4,5])\n",
    "print(tup)\n",
    "#Tuples are immutable they cannot be changed.\n",
    "#Minor Exercise - Try to execute list functions like append and extend and also delete and remove"
   ]
  },
  {
   "cell_type": "code",
   "execution_count": null,
   "metadata": {},
   "outputs": [],
   "source": [
    "#Trying to replace an element\n",
    "#tup[0] = 'NEW'\n"
   ]
  },
  {
   "cell_type": "code",
   "execution_count": null,
   "metadata": {},
   "outputs": [],
   "source": [
    "t=tuple(\"Good Morning\")\n",
    "t=t+(\" \",\"L\",\"O\",\"L\")\n",
    "t"
   ]
  },
  {
   "cell_type": "markdown",
   "metadata": {},
   "source": [
    "### Sets"
   ]
  },
  {
   "cell_type": "code",
   "execution_count": null,
   "metadata": {},
   "outputs": [],
   "source": [
    "x={1,2,3,1,9,9,9,2,2,1,2,3,3,3,3,2,2,2,1,1,2,4,5,5,5,5,5,6,6,7,8,6}\n",
    "x1=[1,2,3,1,9,9,9,2,2,1,2,3,3,3,3,2,2,2,1,1,2,4,5,5,5,5,5,6,6,7,8,6]\n",
    "print(x)\n",
    "\n",
    "print()\n",
    "\n",
    "print(x1)\n"
   ]
  },
  {
   "cell_type": "code",
   "execution_count": null,
   "metadata": {},
   "outputs": [],
   "source": [
    "s1={1,2,3,4}\n",
    "s1.pop()\n",
    "print(s1)"
   ]
  },
  {
   "cell_type": "code",
   "execution_count": null,
   "metadata": {},
   "outputs": [],
   "source": [
    "#Uniquely identified the elements\n",
    "print({1,2,3,1,2,1,2,3,3,3,3,2,2,2,1,1,2,4,5,5,5,5,5,6,6,7,8,6})\n",
    "[1,2,3,1,2,1,2,3,3,3,3,2,2,2,1,1,2,4,5,5,5,5,5,6,6,7,8,6]\n",
    "\n",
    "#                          Minor Exercise\n",
    "#appending\n",
    "#object slicing\n",
    "#removing any element\n",
    "#replacing with one element and multiple elements"
   ]
  },
  {
   "cell_type": "code",
   "execution_count": null,
   "metadata": {},
   "outputs": [],
   "source": [
    "#Adding new Element into Sets\n",
    "#x.add((24,34))\n",
    "#x\n",
    "#Replacing of Sets\n",
    "s = {1,2,4,43,25,4}\n",
    "s.update([99,100,101])\n",
    "print(s)"
   ]
  },
  {
   "cell_type": "code",
   "execution_count": 1,
   "metadata": {},
   "outputs": [
    {
     "data": {
      "text/plain": [
       "[1, 2, 3, 'Hello', ('Hi', 23, 45, 67)]"
      ]
     },
     "execution_count": 1,
     "metadata": {},
     "output_type": "execute_result"
    }
   ],
   "source": [
    "x1={(1, 2, 3), -7, 1, 2, 3, 4, 5, 6, 7, 8}\n",
    "x1\n",
    "x2=[1,2,3,\"Hello\",(\"Hi\",23,45,67)]\n",
    "x2"
   ]
  },
  {
   "cell_type": "code",
   "execution_count": null,
   "metadata": {},
   "outputs": [],
   "source": []
  },
  {
   "cell_type": "markdown",
   "metadata": {},
   "source": [
    "# SEssion will start @ 8:40"
   ]
  },
  {
   "cell_type": "markdown",
   "metadata": {},
   "source": [
    "## Comparison Operators"
   ]
  },
  {
   "cell_type": "code",
   "execution_count": 4,
   "metadata": {},
   "outputs": [
    {
     "data": {
      "text/plain": [
       "True"
      ]
     },
     "execution_count": 4,
     "metadata": {},
     "output_type": "execute_result"
    }
   ],
   "source": [
    "#Smaller than\n",
    "1 < 2"
   ]
  },
  {
   "cell_type": "code",
   "execution_count": 8,
   "metadata": {},
   "outputs": [
    {
     "data": {
      "text/plain": [
       "False"
      ]
     },
     "execution_count": 8,
     "metadata": {},
     "output_type": "execute_result"
    }
   ],
   "source": [
    "#Less than equal to\n",
    "22<=2"
   ]
  },
  {
   "cell_type": "code",
   "execution_count": 11,
   "metadata": {},
   "outputs": [
    {
     "data": {
      "text/plain": [
       "False"
      ]
     },
     "execution_count": 11,
     "metadata": {},
     "output_type": "execute_result"
    }
   ],
   "source": [
    "#Greater than\n",
    "199.99 > 200"
   ]
  },
  {
   "cell_type": "code",
   "execution_count": null,
   "metadata": {},
   "outputs": [],
   "source": [
    "#Greater than equals to\n",
    "4 >= 1"
   ]
  },
  {
   "cell_type": "code",
   "execution_count": null,
   "metadata": {},
   "outputs": [],
   "source": [
    "#Smaller than Equals to\n",
    "3 <= 3"
   ]
  },
  {
   "cell_type": "code",
   "execution_count": null,
   "metadata": {},
   "outputs": [],
   "source": [
    "# Equals to\n",
    "1 == 1"
   ]
  },
  {
   "cell_type": "code",
   "execution_count": null,
   "metadata": {},
   "outputs": [],
   "source": [
    "#Not Equals to\n",
    "1 != 12"
   ]
  },
  {
   "cell_type": "code",
   "execution_count": null,
   "metadata": {},
   "outputs": [],
   "source": [
    "#Equals to\n",
    "'Hello' == 'hello'"
   ]
  },
  {
   "cell_type": "markdown",
   "metadata": {},
   "source": [
    "## Logic Operators"
   ]
  },
  {
   "cell_type": "code",
   "execution_count": 14,
   "metadata": {},
   "outputs": [
    {
     "data": {
      "text/plain": [
       "False"
      ]
     },
     "execution_count": 14,
     "metadata": {},
     "output_type": "execute_result"
    }
   ],
   "source": [
    "(1 < 2) and (22 < 3) and (4==4) #and - "
   ]
  },
  {
   "cell_type": "code",
   "execution_count": null,
   "metadata": {},
   "outputs": [],
   "source": [
    "(1 < 2) & (2 < 3) #and"
   ]
  },
  {
   "cell_type": "code",
   "execution_count": null,
   "metadata": {},
   "outputs": [],
   "source": [
    "(1 > 2) or (2 < 3) or (4==3)  #or"
   ]
  },
  {
   "cell_type": "code",
   "execution_count": null,
   "metadata": {},
   "outputs": [],
   "source": [
    "(1 == 2) | (3 == 3) | (4 == 4)\n"
   ]
  },
  {
   "cell_type": "code",
   "execution_count": null,
   "metadata": {},
   "outputs": [],
   "source": [
    "(1 == 2) & (3 == 3) & (4 == 4)"
   ]
  },
  {
   "cell_type": "code",
   "execution_count": null,
   "metadata": {},
   "outputs": [],
   "source": [
    "3==4"
   ]
  },
  {
   "cell_type": "code",
   "execution_count": null,
   "metadata": {},
   "outputs": [],
   "source": [
    "if 4==5:\n",
    "    print(\"Correct Answer\")\n",
    "else:\n",
    "    print(\"Wrong Answer\")"
   ]
  },
  {
   "cell_type": "code",
   "execution_count": null,
   "metadata": {},
   "outputs": [],
   "source": [
    "if int(input(\"Please provide First Number: \"))==int(input(\"Please provide the Second Number: \")):\n",
    "    print(\"That's a correct Number\")\n",
    "else:\n",
    "    print(\"Please provide the same number\")\n",
    "#Also execute the code"
   ]
  },
  {
   "cell_type": "code",
   "execution_count": null,
   "metadata": {},
   "outputs": [],
   "source": [
    "if 25==int(input(\"Please provide a number\")):\n",
    "    print(\"Correct\")\n",
    "else:\n",
    "    print(\"Incorrect\")"
   ]
  },
  {
   "cell_type": "markdown",
   "metadata": {},
   "source": [
    "## if,elif, else Statements"
   ]
  },
  {
   "cell_type": "code",
   "execution_count": null,
   "metadata": {},
   "outputs": [],
   "source": [
    "#Try with as much different conditions as you can\n",
    "if 12 < 10:\n",
    "    print(\"Right Condition\")"
   ]
  },
  {
   "cell_type": "code",
   "execution_count": null,
   "metadata": {},
   "outputs": [],
   "source": [
    "if 1 < 2:\n",
    "    print('yep!')"
   ]
  },
  {
   "cell_type": "code",
   "execution_count": null,
   "metadata": {},
   "outputs": [],
   "source": [
    "if 10 > 8:\n",
    "    print('Right Condition')\n",
    "else:\n",
    "    print(\"Wrong Condition\")"
   ]
  },
  {
   "cell_type": "code",
   "execution_count": null,
   "metadata": {},
   "outputs": [],
   "source": [
    "if \"Hi\" == \"Hi\":\n",
    "    print('first')\n",
    "else:\n",
    "    print('last')"
   ]
  },
  {
   "cell_type": "code",
   "execution_count": null,
   "metadata": {},
   "outputs": [],
   "source": [
    "if 1 == 11:\n",
    "    print('first')\n",
    "elif 3 == 23:\n",
    "    print('second')\n",
    "elif 3==33:\n",
    "    print(\"Match Found on Third else if condition\")\n",
    "elif 4==42:\n",
    "    print(\"Finally Found!\")\n",
    "else:\n",
    "    print('Nothig Found')"
   ]
  },
  {
   "cell_type": "code",
   "execution_count": 28,
   "metadata": {},
   "outputs": [
    {
     "name": "stdout",
     "output_type": "stream",
     "text": [
      "first\n",
      "second\n",
      "Finally Found!\n"
     ]
    }
   ],
   "source": [
    "if 1 == 1:\n",
    "    print('first')\n",
    "if 3 == 3:\n",
    "    print('second')\n",
    "if 3==33:\n",
    "    print(\"Match Found on Second else if condition\")\n",
    "if 4==4:\n",
    "    print(\"Finally Found!\")\n",
    "else:\n",
    "    print('Nothig Found')"
   ]
  },
  {
   "cell_type": "code",
   "execution_count": 37,
   "metadata": {},
   "outputs": [
    {
     "name": "stdout",
     "output_type": "stream",
     "text": [
      "B\n",
      "r\n",
      "e\n",
      "a\n",
      "k\n",
      "f\n"
     ]
    }
   ],
   "source": [
    "word=\"Breakfast\"\n",
    "for letter in word:\n",
    "    print(letter)\n",
    "    if letter==\"f\":\n",
    "        break"
   ]
  },
  {
   "cell_type": "code",
   "execution_count": 43,
   "metadata": {},
   "outputs": [
    {
     "name": "stdout",
     "output_type": "stream",
     "text": [
      "The Itreation number is : 0\n",
      "The Itreation number is : 1\n",
      "The Itreation number is : 2\n",
      "The Itreation number is : 3\n"
     ]
    }
   ],
   "source": [
    "num=0\n",
    "for i in range(10):\n",
    "    if i==4:\n",
    "        break\n",
    "    print(\"The Itreation number is :\",i)"
   ]
  },
  {
   "cell_type": "code",
   "execution_count": 36,
   "metadata": {
    "scrolled": true
   },
   "outputs": [
    {
     "name": "stdout",
     "output_type": "stream",
     "text": [
      "The num has value:  1\n",
      "The num has value:  2\n",
      "The num has value:  3\n",
      "The num has value:  4\n",
      "The num has value:  5\n",
      "The num has value:  6\n",
      "The num has value:  7\n"
     ]
    }
   ],
   "source": [
    "num=0\n",
    "for i in range(10):\n",
    "    num +=1\n",
    "    if num==8:\n",
    "        break\n",
    "    print(\"The num has value: \",num)"
   ]
  },
  {
   "cell_type": "code",
   "execution_count": null,
   "metadata": {},
   "outputs": [],
   "source": [
    "var1=200\n",
    "\n",
    "if var1==100:\n",
    "    print(\"You got the Number\")\n",
    "else:\n",
    "    print(\"You haven't got the Number\")\n",
    "\n",
    "print()\n",
    "\n",
    "var2=20\n",
    "if var2==20:\n",
    "    print(\"Now you got the Number\")\n",
    "else:\n",
    "    print(\"Sorry Didn't got the number\")"
   ]
  },
  {
   "cell_type": "code",
   "execution_count": null,
   "metadata": {},
   "outputs": [],
   "source": [
    "x=16\n",
    "print(\"Today's date is \" + str(x))\n",
    "print(\"Today's date is {}\".format(x))"
   ]
  },
  {
   "cell_type": "code",
   "execution_count": null,
   "metadata": {},
   "outputs": [],
   "source": [
    "var=int(input(\"Please provide a number \"))\n",
    "print()\n",
    "if var==200:\n",
    "    print(\" You got the number: \",var)\n",
    "elif var==150:\n",
    "    print(\"You have got the Number: \"+str(var))\n",
    "elif var==100:\n",
    "    print(\"You have got the Number: {}\".format(var))\n",
    "elif var==300:\n",
    "    print(f\"You have got the Number {var}\")\n",
    "else:\n",
    "    print(\"\\n\",\"Still haven't got the number\")"
   ]
  },
  {
   "cell_type": "markdown",
   "metadata": {},
   "source": [
    "## for Loops"
   ]
  },
  {
   "cell_type": "code",
   "execution_count": 59,
   "metadata": {},
   "outputs": [
    {
     "data": {
      "text/plain": [
       "[1, 2, 3, 4, 5, 6, 7, 8, 9, 10]"
      ]
     },
     "execution_count": 59,
     "metadata": {},
     "output_type": "execute_result"
    }
   ],
   "source": [
    "seq = [1,2,3,4,5,6,7,8,9,10]\n",
    "seq"
   ]
  },
  {
   "cell_type": "code",
   "execution_count": 60,
   "metadata": {},
   "outputs": [
    {
     "name": "stdout",
     "output_type": "stream",
     "text": [
      "1\n",
      "2\n",
      "3\n",
      "4\n",
      "5\n",
      "6\n",
      "7\n",
      "8\n",
      "9\n",
      "10\n"
     ]
    },
    {
     "data": {
      "text/plain": [
       "10"
      ]
     },
     "execution_count": 60,
     "metadata": {},
     "output_type": "execute_result"
    }
   ],
   "source": [
    "for star in seq:\n",
    "    print(star)\n",
    "    \n",
    "star"
   ]
  },
  {
   "cell_type": "code",
   "execution_count": null,
   "metadata": {
    "scrolled": true
   },
   "outputs": [],
   "source": [
    "for fun in \"Good Morning\":\n",
    "    print(fun)\n",
    "fun\n",
    "\n",
    "seq"
   ]
  },
  {
   "cell_type": "code",
   "execution_count": null,
   "metadata": {},
   "outputs": [],
   "source": [
    "for item in seq:\n",
    "    print('Yep')"
   ]
  },
  {
   "cell_type": "code",
   "execution_count": null,
   "metadata": {
    "scrolled": true
   },
   "outputs": [],
   "source": [
    "#Indentation\n",
    "for jelly in seq:\n",
    "    print(\"{}. Iteration- 10/{}\".format(jelly,jelly))\n",
    "    print(star/jelly)\n",
    "    print()"
   ]
  },
  {
   "cell_type": "code",
   "execution_count": null,
   "metadata": {},
   "outputs": [],
   "source": [
    "for sun in seq:\n",
    "    print(item)"
   ]
  },
  {
   "cell_type": "code",
   "execution_count": null,
   "metadata": {},
   "outputs": [],
   "source": [
    "num=[1,2,5,6,7,8,25]\n",
    "\n",
    "sq=[]\n",
    "\n",
    "for i in num:\n",
    "    z=i*i\n",
    "    print(\"{}*{}={}\".format(i,i,z),\"\\n\")\n",
    "    sq.append(z)"
   ]
  },
  {
   "cell_type": "code",
   "execution_count": null,
   "metadata": {},
   "outputs": [],
   "source": [
    "sq"
   ]
  },
  {
   "cell_type": "markdown",
   "metadata": {},
   "source": [
    "## while Loops"
   ]
  },
  {
   "cell_type": "code",
   "execution_count": null,
   "metadata": {},
   "outputs": [],
   "source": [
    "i = 0\n",
    "while i <= 10:\n",
    "    print(f'i is: {i}') #Latest\n",
    "    #print(\"i is:\",i)\n",
    "    #print(\"i is: {}\".format(i)) #Traditional \n",
    "    #print(\"i is: \"+str(i))\n",
    "    i = i+1\n",
    "    print(i)"
   ]
  },
  {
   "cell_type": "code",
   "execution_count": null,
   "metadata": {},
   "outputs": [],
   "source": [
    "[i*i for i in range(10)]"
   ]
  },
  {
   "cell_type": "markdown",
   "metadata": {},
   "source": [
    "## list comprehension"
   ]
  },
  {
   "cell_type": "code",
   "execution_count": 48,
   "metadata": {},
   "outputs": [
    {
     "data": {
      "text/plain": [
       "[20, 22, 24, 25, 26, 28, 21, 24, 23]"
      ]
     },
     "execution_count": 48,
     "metadata": {},
     "output_type": "execute_result"
    }
   ],
   "source": [
    "#It's a for loop within List DataStructure\n",
    "age=[10,12,14,15,16,18,11,14,13]\n",
    "new_age=[]\n",
    "for i in range(len(age)):\n",
    "    new_age.append(age[i]+10)\n",
    "new_age"
   ]
  },
  {
   "cell_type": "code",
   "execution_count": 47,
   "metadata": {},
   "outputs": [
    {
     "data": {
      "text/plain": [
       "[20, 22, 24, 25, 26, 28, 21, 24, 23]"
      ]
     },
     "execution_count": 47,
     "metadata": {},
     "output_type": "execute_result"
    }
   ],
   "source": [
    "#List Comprehension\n",
    "fun_age=[i+10 for i in age]\n",
    "fun_age"
   ]
  },
  {
   "cell_type": "code",
   "execution_count": null,
   "metadata": {},
   "outputs": [],
   "source": [
    "#For Loops vs List Comprehension\n",
    "sq=[]\n",
    "for x in range(10):\n",
    "    sq.append(x**2)\n",
    "print(sq)\n",
    "\n",
    "print(\"\\n\")\n",
    "\n",
    "#List Comprehensions\n",
    "squares=[x**2 for x in range(10)]\n",
    "print(squares)"
   ]
  },
  {
   "cell_type": "code",
   "execution_count": null,
   "metadata": {},
   "outputs": [],
   "source": [
    "#For Loops\n",
    "sq=[]\n",
    "for x in range(10):\n",
    "    sq.append(x+2)\n",
    "print(sq)\n",
    "\n",
    "print(\"\\n\")\n",
    "\n",
    "#List Comprehensions\n",
    "squares=[x+2 for x in range(10)]\n",
    "print(squares)"
   ]
  },
  {
   "cell_type": "code",
   "execution_count": null,
   "metadata": {},
   "outputs": [],
   "source": [
    "list1=[6,7,8,7,5,1,9]\n",
    "multiple=[item*(item/3) for item in list1]\n",
    "print(multiple)\n",
    "\n",
    "#Execute the code with For Loops as well by using append function.\n",
    "\n",
    "sq=[]\n",
    "for i in list1:\n",
    "    sq.append(i*(i/3))\n",
    "print(sq)\n",
    "    "
   ]
  },
  {
   "cell_type": "code",
   "execution_count": null,
   "metadata": {},
   "outputs": [],
   "source": [
    "#Minor Exercise\n",
    "#Show the output of every 3rd letter from each word with List Comprehension and For Loops\n",
    "\n",
    "word=[\"Good\",\"Baddest\",\"Worse\",\"Best\",\"Better\",\"Hello\",\"Python\"]\n",
    "\n",
    "sq=[]\n",
    "for i in word:\n",
    "    sq.append(i[3])\n",
    "print(sq,\"Accessing every 4th Elemnet\")\n",
    "\n",
    "print()\n",
    "\n",
    "fish=[i[1] for i in word]\n",
    "print(fish,\"Accessing every 2nd Element\")"
   ]
  },
  {
   "cell_type": "code",
   "execution_count": null,
   "metadata": {},
   "outputs": [],
   "source": [
    "for i in word:\n",
    "    print(i[2])"
   ]
  },
  {
   "cell_type": "code",
   "execution_count": null,
   "metadata": {
    "scrolled": false
   },
   "outputs": [],
   "source": [
    "gun=[]\n",
    "\n",
    "for i in \"human\":\n",
    "    gun.append(i)\n",
    "print(gun)"
   ]
  },
  {
   "cell_type": "code",
   "execution_count": null,
   "metadata": {
    "scrolled": true
   },
   "outputs": [],
   "source": [
    "gunn=[i for i in \"human\"]\n",
    "print(gunn)"
   ]
  },
  {
   "cell_type": "markdown",
   "metadata": {},
   "source": [
    "## functions"
   ]
  },
  {
   "cell_type": "code",
   "execution_count": 3,
   "metadata": {},
   "outputs": [],
   "source": [
    "#Basic Function\n",
    "\n",
    "def fun_session(x):\n",
    "    return min(x)/max(x)"
   ]
  },
  {
   "cell_type": "code",
   "execution_count": 5,
   "metadata": {},
   "outputs": [
    {
     "data": {
      "text/plain": [
       "0.0449438202247191"
      ]
     },
     "execution_count": 5,
     "metadata": {},
     "output_type": "execute_result"
    }
   ],
   "source": [
    "4/89"
   ]
  },
  {
   "cell_type": "code",
   "execution_count": 4,
   "metadata": {},
   "outputs": [
    {
     "data": {
      "text/plain": [
       "0.0449438202247191"
      ]
     },
     "execution_count": 4,
     "metadata": {},
     "output_type": "execute_result"
    }
   ],
   "source": [
    "kite=[5,6,7,8,9,4,10,14,15,18,21,77,89]\n",
    "fun_session(kite)"
   ]
  },
  {
   "cell_type": "code",
   "execution_count": null,
   "metadata": {},
   "outputs": [],
   "source": [
    "def multiplication(x,y):\n",
    "    mult=x*y\n",
    "    return mult;\n",
    "\n",
    "multiplication(10,2)"
   ]
  },
  {
   "cell_type": "code",
   "execution_count": null,
   "metadata": {},
   "outputs": [],
   "source": [
    "def add(x,y):\n",
    "    return x+y\n",
    "\n",
    "add(10,2)"
   ]
  },
  {
   "cell_type": "code",
   "execution_count": null,
   "metadata": {},
   "outputs": [],
   "source": [
    "def celcius_to_fahre(x):\n",
    "    fah=((x*1.8)+32)\n",
    "    print(fah,\"Fahrenheit\")\n",
    "\n",
    "celcius_to_fahre(20)\n",
    "\n",
    "#Exercise1 Convert Fahrenheit to Celcius\n",
    "#Exercise2 Convert Kilometer per liter to Miles per gallon\n",
    "#Exercise3 Convert KM/h to meter/second"
   ]
  },
  {
   "cell_type": "code",
   "execution_count": 6,
   "metadata": {},
   "outputs": [
    {
     "name": "stdout",
     "output_type": "stream",
     "text": [
      "input the number one: 24\n",
      "input the number one :24\n",
      "The sum is 48\n"
     ]
    }
   ],
   "source": [
    "def add_num(a,b):#function for addition\n",
    "    add=a+b;\n",
    "    return add; #return value\n",
    "num1=int(input(\"input the number one: \"))#input from user for num1\n",
    "num2=int(input(\"input the number one :\"))#input from user for num2\n",
    "\n",
    "print(\"The sum is\",add_num(num1,num2))#call te function"
   ]
  },
  {
   "cell_type": "code",
   "execution_count": null,
   "metadata": {},
   "outputs": [],
   "source": [
    "def call(name,age,gender):\n",
    "    print(\"hello my name is\",name,\"i am \",int(age),\"year old and my gender is\",gender)"
   ]
  },
  {
   "cell_type": "code",
   "execution_count": null,
   "metadata": {},
   "outputs": [],
   "source": [
    "call(\"Karan\",22,\"Gender\")\n",
    "call(\"Gender\",23,\"Karan\")\n",
    "call(\"Karan\",123,\"Male\")"
   ]
  },
  {
   "cell_type": "code",
   "execution_count": null,
   "metadata": {},
   "outputs": [],
   "source": [
    "def str_convert(x):\n",
    "    return str(x)"
   ]
  },
  {
   "cell_type": "code",
   "execution_count": null,
   "metadata": {},
   "outputs": [],
   "source": [
    "str_convert(\"Karan\")"
   ]
  },
  {
   "cell_type": "code",
   "execution_count": null,
   "metadata": {},
   "outputs": [],
   "source": [
    "def square(x):\n",
    "    return x**3"
   ]
  },
  {
   "cell_type": "code",
   "execution_count": null,
   "metadata": {},
   "outputs": [],
   "source": [
    "square(6)"
   ]
  },
  {
   "cell_type": "markdown",
   "metadata": {},
   "source": [
    "## methods"
   ]
  },
  {
   "cell_type": "code",
   "execution_count": 7,
   "metadata": {},
   "outputs": [
    {
     "data": {
      "text/plain": [
       "'Hello my Name is Sam'"
      ]
     },
     "execution_count": 7,
     "metadata": {},
     "output_type": "execute_result"
    }
   ],
   "source": [
    "st = 'Hello my Name is Sam'\n",
    "st"
   ]
  },
  {
   "cell_type": "code",
   "execution_count": 8,
   "metadata": {},
   "outputs": [
    {
     "data": {
      "text/plain": [
       "'hello my name is sam'"
      ]
     },
     "execution_count": 8,
     "metadata": {},
     "output_type": "execute_result"
    }
   ],
   "source": [
    "st.lower()"
   ]
  },
  {
   "cell_type": "code",
   "execution_count": 9,
   "metadata": {},
   "outputs": [
    {
     "data": {
      "text/plain": [
       "'HELLO MY NAME IS SAM'"
      ]
     },
     "execution_count": 9,
     "metadata": {},
     "output_type": "execute_result"
    }
   ],
   "source": [
    "st.upper()"
   ]
  },
  {
   "cell_type": "code",
   "execution_count": 13,
   "metadata": {},
   "outputs": [
    {
     "data": {
      "text/plain": [
       "'HI'"
      ]
     },
     "execution_count": 13,
     "metadata": {},
     "output_type": "execute_result"
    }
   ],
   "source": [
    "raw=\"Hi       \"\n",
    "raw1=\"       H1\"\n",
    "raw2=\"    HI     \"\n",
    "\n",
    "raw2.strip()\n",
    "#raw2.lstrip()\n",
    "#raw2.rstrip()"
   ]
  },
  {
   "cell_type": "code",
   "execution_count": 18,
   "metadata": {},
   "outputs": [
    {
     "data": {
      "text/plain": [
       "['Hello', 'my', 'Name', 'is', 'Sam']"
      ]
     },
     "execution_count": 18,
     "metadata": {},
     "output_type": "execute_result"
    }
   ],
   "source": [
    "rr=st.split()\n",
    "rr"
   ]
  },
  {
   "cell_type": "code",
   "execution_count": 20,
   "metadata": {},
   "outputs": [
    {
     "name": "stdout",
     "output_type": "stream",
     "text": [
      "[\"I can't wait  to \", ' to the amusement park'] \n",
      "\n",
      "['I', \"can't\", 'wait', 'to', 'go', 'to', 'the', 'amusement', 'park']\n"
     ]
    }
   ],
   "source": [
    "mes2=\"I can't wait  to go to the amusement park\"\n",
    "print(mes2.split(\"go\"),\"\\n\")\n",
    "print(mes2.split())"
   ]
  },
  {
   "cell_type": "code",
   "execution_count": 28,
   "metadata": {},
   "outputs": [
    {
     "data": {
      "text/plain": [
       "[\"I can't wait  to go to \", ' amusement park']"
      ]
     },
     "execution_count": 28,
     "metadata": {},
     "output_type": "execute_result"
    }
   ],
   "source": [
    "mes2.split(\"the\")"
   ]
  },
  {
   "cell_type": "code",
   "execution_count": null,
   "metadata": {},
   "outputs": [],
   "source": [
    "#Exercise\n",
    "ss=\"my age is 20\"\n",
    "ss1=ss.split()\n",
    "print(ss1)\n",
    "ss1[1].upper()"
   ]
  },
  {
   "cell_type": "code",
   "execution_count": null,
   "metadata": {},
   "outputs": [],
   "source": [
    "print(ss1)\n",
    "ss1[0].upper()"
   ]
  },
  {
   "cell_type": "code",
   "execution_count": null,
   "metadata": {},
   "outputs": [],
   "source": [
    "tweet = 'Go Sports! #Sports'\n",
    "print(tweet.split(\"#\"))\n",
    "print(tweet.split(\"!\"))\n",
    "print(tweet.split(\"!\")[0])\n",
    "print(tweet.split(\"!\")[1])"
   ]
  },
  {
   "cell_type": "code",
   "execution_count": null,
   "metadata": {},
   "outputs": [],
   "source": [
    "tweet = 'Go Sports! #Sports'\n",
    "\n",
    "#please work on below exercise as well!\n",
    "\n",
    "\n",
    "#\"Good Morning! How's the Day! What time is it?\"          #Split the string on !\n",
    "#\"Welcome home buddy! I have got 200$ for shopping\"       #Split the string on ! and $ seperately\n",
    "#\"I can't wait to go to the amusement park\"               #Transform the strings in upper case."
   ]
  },
  {
   "cell_type": "code",
   "execution_count": null,
   "metadata": {},
   "outputs": [],
   "source": [
    "print(tweet.split())\n",
    "print(tweet.split(\"!\"))\n",
    "print(tweet.split(\"#\"))\n"
   ]
  },
  {
   "cell_type": "code",
   "execution_count": null,
   "metadata": {},
   "outputs": [],
   "source": [
    "x=\"Welcome home buddy! I have got 200$ for shopping\"\n",
    "print(x.split(\"!\"))\n",
    "x.split(\"$\")\n",
    "    "
   ]
  },
  {
   "cell_type": "code",
   "execution_count": null,
   "metadata": {},
   "outputs": [],
   "source": [
    "tweet.split('#')"
   ]
  },
  {
   "cell_type": "code",
   "execution_count": null,
   "metadata": {},
   "outputs": [],
   "source": [
    "tweet\n",
    "tweet.split('!')"
   ]
  },
  {
   "cell_type": "code",
   "execution_count": null,
   "metadata": {},
   "outputs": [],
   "source": [
    "#Concatenation\n",
    "[56,\"Fish\",\"Sun\",99]+[7,6,\"Rise\",5.55]"
   ]
  },
  {
   "cell_type": "code",
   "execution_count": 8,
   "metadata": {},
   "outputs": [
    {
     "name": "stdout",
     "output_type": "stream",
     "text": [
      "[1, 3, 4, 7, 9, 10, 43]\n"
     ]
    }
   ],
   "source": [
    "#Sorting\n",
    "a=[7,4,9,3,1,10,43]\n",
    "a.sort()\n",
    "print(a)\n",
    "a.sort(reverse=True)\n",
    "a\n",
    "import pandas as pd"
   ]
  },
  {
   "cell_type": "code",
   "execution_count": 32,
   "metadata": {},
   "outputs": [
    {
     "name": "stdout",
     "output_type": "stream",
     "text": [
      "How many records you want2\n",
      "Namekaran1\n",
      "Agekasd\n"
     ]
    },
    {
     "ename": "ValueError",
     "evalue": "invalid literal for int() with base 10: 'kasd'",
     "output_type": "error",
     "traceback": [
      "\u001b[1;31m---------------------------------------------------------------------------\u001b[0m",
      "\u001b[1;31mValueError\u001b[0m                                Traceback (most recent call last)",
      "\u001b[1;32m<ipython-input-32-58ae8fbd151a>\u001b[0m in \u001b[0;36m<module>\u001b[1;34m\u001b[0m\n\u001b[0;32m      4\u001b[0m \u001b[1;32mfor\u001b[0m \u001b[0mi\u001b[0m \u001b[1;32min\u001b[0m \u001b[0mrange\u001b[0m\u001b[1;33m(\u001b[0m\u001b[0mx\u001b[0m\u001b[1;33m)\u001b[0m\u001b[1;33m:\u001b[0m\u001b[1;33m\u001b[0m\u001b[1;33m\u001b[0m\u001b[0m\n\u001b[0;32m      5\u001b[0m     \u001b[0mname1\u001b[0m\u001b[1;33m=\u001b[0m\u001b[0minput\u001b[0m\u001b[1;33m(\u001b[0m\u001b[1;34m\"Name\"\u001b[0m\u001b[1;33m)\u001b[0m\u001b[1;33m\u001b[0m\u001b[1;33m\u001b[0m\u001b[0m\n\u001b[1;32m----> 6\u001b[1;33m     \u001b[0mage1\u001b[0m\u001b[1;33m=\u001b[0m\u001b[0mint\u001b[0m\u001b[1;33m(\u001b[0m\u001b[0minput\u001b[0m\u001b[1;33m(\u001b[0m\u001b[1;34m\"Age\"\u001b[0m\u001b[1;33m)\u001b[0m\u001b[1;33m)\u001b[0m\u001b[1;33m\u001b[0m\u001b[1;33m\u001b[0m\u001b[0m\n\u001b[0m\u001b[0;32m      7\u001b[0m     \u001b[0mlist1\u001b[0m\u001b[1;33m.\u001b[0m\u001b[0mextend\u001b[0m\u001b[1;33m(\u001b[0m\u001b[1;33m[\u001b[0m\u001b[0mname1\u001b[0m\u001b[1;33m]\u001b[0m\u001b[1;33m)\u001b[0m\u001b[1;33m\u001b[0m\u001b[1;33m\u001b[0m\u001b[0m\n\u001b[0;32m      8\u001b[0m     \u001b[0mlist2\u001b[0m\u001b[1;33m.\u001b[0m\u001b[0mextend\u001b[0m\u001b[1;33m(\u001b[0m\u001b[1;33m[\u001b[0m\u001b[0mage1\u001b[0m\u001b[1;33m]\u001b[0m\u001b[1;33m)\u001b[0m\u001b[1;33m\u001b[0m\u001b[1;33m\u001b[0m\u001b[0m\n",
      "\u001b[1;31mValueError\u001b[0m: invalid literal for int() with base 10: 'kasd'"
     ]
    }
   ],
   "source": [
    "x=int(input(\"How many records you want\"))\n",
    "list1=[]\n",
    "list2=[]\n",
    "for i in range(x):\n",
    "    name1=input(\"Name\")\n",
    "    age1=int(input(\"Age\"))\n",
    "    list1.extend([name1])\n",
    "    list2.extend([age1])\n",
    "for i in range(len(list1)):\n",
    "    print(i)"
   ]
  },
  {
   "cell_type": "markdown",
   "metadata": {},
   "source": [
    "# Great Job!"
   ]
  }
 ],
 "metadata": {
  "kernelspec": {
   "display_name": "Python 3 (ipykernel)",
   "language": "python",
   "name": "python3"
  },
  "language_info": {
   "codemirror_mode": {
    "name": "ipython",
    "version": 3
   },
   "file_extension": ".py",
   "mimetype": "text/x-python",
   "name": "python",
   "nbconvert_exporter": "python",
   "pygments_lexer": "ipython3",
   "version": "3.10.4"
  }
 },
 "nbformat": 4,
 "nbformat_minor": 1
}
