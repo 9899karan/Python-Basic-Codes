{
 "cells": [
  {
   "cell_type": "markdown",
   "metadata": {},
   "source": [
    "# Regular Expression\n",
    "\n",
    "\n",
    "A RegEx, or Regular Expression, is a sequence of characters that forms a search pattern.\n",
    "\n",
    "RegEx can be used to check if a string contains the specified search pattern.\n",
    "\n",
    "Python has a built-in package called re, which can be used to work with Regular Expressions.\n",
    "\n",
    "Import the re module\n",
    "\n",
    "\n",
    "\\A\tReturns a match if the specified characters are at the beginning of the string\t\"\\AThe\"\t\n",
    "\\b\tReturns a match where the specified characters are at the beginning or at the end of a word\n",
    "(the \"r\" in the beginning is making sure that the string is being treated as a \"raw string\")\tr\"\\bain\"\n",
    "r\"ain\\b\"\t\n",
    "\n",
    "\\B\tReturns a match where the specified characters are present, but NOT at the beginning (or at the end) of a word\n",
    "(the \"r\" in the beginning is making sure that the string is being treated as a \"raw string\")\tr\"\\Bain\"\n",
    "r\"ain\\B\"\t\n",
    "\\d\tReturns a match where the string contains digits (numbers from 0-9)\t\"\\d\"\t\n",
    "\\D\tReturns a match where the string DOES NOT contain digits\t\"\\D\"\t\n",
    "\\s\tReturns a match where the string contains a white space character\t\"\\s\"\t\n",
    "\\S\tReturns a match where the string DOES NOT contain a white space character\t\"\\S\"\t\n",
    "\\w\tReturns a match where the string contains any word characters (characters from a to Z, digits from 0-9, and the underscore _ character)\t\"\\w\"\t\n",
    "\\W\tReturns a match where the string DOES NOT contain any word characters\t\"\\W\"\t\n",
    "\\Z\tReturns a match if the specified characters are at the end of the string\n",
    "\n"
   ]
  },
  {
   "cell_type": "code",
   "execution_count": 13,
   "metadata": {},
   "outputs": [],
   "source": [
    "import re\n"
   ]
  },
  {
   "cell_type": "code",
   "execution_count": 11,
   "metadata": {},
   "outputs": [],
   "source": [
    "nameage='''Janice is 35 and Harry is 34\n",
    "Gabriel is 45\n",
    "Johnny is 23'''"
   ]
  },
  {
   "cell_type": "code",
   "execution_count": 24,
   "metadata": {},
   "outputs": [],
   "source": [
    "text=\"India got it's independence in the year 1947 and right now it has completed 74 years of independence\""
   ]
  },
  {
   "cell_type": "code",
   "execution_count": 25,
   "metadata": {},
   "outputs": [
    {
     "data": {
      "text/plain": [
       "['1947', '74']"
      ]
     },
     "execution_count": 25,
     "metadata": {},
     "output_type": "execute_result"
    }
   ],
   "source": [
    "year=re.findall(\"\\d{1,1234}\",text)\n",
    "year"
   ]
  },
  {
   "cell_type": "code",
   "execution_count": 28,
   "metadata": {},
   "outputs": [
    {
     "name": "stdout",
     "output_type": "stream",
     "text": [
      "['35', '34', '45', '23'] \n",
      "\n"
     ]
    },
    {
     "data": {
      "text/plain": [
       "'Janice is 35 and Harry is 34\\nGabriel is 45\\nJohnny is 23'"
      ]
     },
     "execution_count": 28,
     "metadata": {},
     "output_type": "execute_result"
    }
   ],
   "source": [
    "age=re.findall(\"\\d{1,12}\",nameage)\n",
    "print(age,\"\\n\")\n",
    "nameage"
   ]
  },
  {
   "cell_type": "code",
   "execution_count": 27,
   "metadata": {},
   "outputs": [
    {
     "data": {
      "text/plain": [
       "['Janice', 'Harry', 'Gabriel', 'Johnny']"
      ]
     },
     "execution_count": 27,
     "metadata": {},
     "output_type": "execute_result"
    }
   ],
   "source": [
    "name=re.findall(\"[A-Z][a-z]*\",nameage)\n",
    "name"
   ]
  },
  {
   "cell_type": "code",
   "execution_count": 29,
   "metadata": {},
   "outputs": [
    {
     "name": "stdout",
     "output_type": "stream",
     "text": [
      "{'Janice': '35', 'Harry': '34', 'Gabriel': '45', 'Johnny': '23'}\n"
     ]
    }
   ],
   "source": [
    "ageDict={}\n",
    "x=0\n",
    "for i in name:\n",
    "    ageDict[i]=age[x]\n",
    "    x+=1\n",
    "print(ageDict)"
   ]
  },
  {
   "cell_type": "code",
   "execution_count": 34,
   "metadata": {},
   "outputs": [
    {
     "data": {
      "text/plain": [
       "['Sat', 'Pat', 'Fat']"
      ]
     },
     "execution_count": 34,
     "metadata": {},
     "output_type": "execute_result"
    }
   ],
   "source": [
    "\"ABCDEFGHIJKLMNOPQRSTUVWXYZ\"\n",
    "Str=\"Sat,hat,mat,Pat,cat,Fat,rat\"\n",
    "word=re.findall(\"[^a-z]at\",Str)\n",
    "word"
   ]
  },
  {
   "cell_type": "code",
   "execution_count": 42,
   "metadata": {},
   "outputs": [
    {
     "data": {
      "text/plain": [
       "['Sat', 'pat', 'cat', 'fat', 'rat']"
      ]
     },
     "execution_count": 42,
     "metadata": {},
     "output_type": "execute_result"
    }
   ],
   "source": [
    "Str=\"Sat,hat,mat,pat,cat,fat,rat\"\n",
    "word=re.findall(\"[^g-m]at\",Str)\n",
    "word"
   ]
  },
  {
   "cell_type": "code",
   "execution_count": 43,
   "metadata": {},
   "outputs": [
    {
     "data": {
      "text/plain": [
       "'Good,hat,mat,pat,cat,fat,rat'"
      ]
     },
     "execution_count": 43,
     "metadata": {},
     "output_type": "execute_result"
    }
   ],
   "source": [
    "Food=\"Sat,hat,mat,pat,cat,fat,rat\"\n",
    "word=re.compile(\"[S]at\")\n",
    "Food1=word.sub(\"Good\",Food)\n",
    "Food1"
   ]
  },
  {
   "cell_type": "code",
   "execution_count": 44,
   "metadata": {},
   "outputs": [
    {
     "data": {
      "text/plain": [
       "'Sat,hat,Worse,Worse,cat,fat,Worse'"
      ]
     },
     "execution_count": 44,
     "metadata": {},
     "output_type": "execute_result"
    }
   ],
   "source": [
    "Good=\"Sat,hat,mat,pat,cat,fat,rat\"\n",
    "word=re.compile(\"[p,m,r]at\")\n",
    "Good=word.sub(\"Worse\",Good)\n",
    "Good\n"
   ]
  },
  {
   "cell_type": "code",
   "execution_count": 46,
   "metadata": {},
   "outputs": [
    {
     "name": "stdout",
     "output_type": "stream",
     "text": [
      "Keep the food warm\n",
      "unless it will get cold\n",
      "and wont be tasty\n",
      "\n",
      " Keep the food warm unless it will get cold and wont be tasty\n"
     ]
    }
   ],
   "source": [
    "word='''Keep the food warm\n",
    "unless it will get cold\n",
    "and wont be tasty'''\n",
    "print(word)\n",
    "regex=re.compile(\"\\n\")\n",
    "word=regex.sub(\" \",word)\n",
    "print(\"\\n\",word)"
   ]
  },
  {
   "cell_type": "code",
   "execution_count": 50,
   "metadata": {},
   "outputs": [
    {
     "name": "stdout",
     "output_type": "stream",
     "text": [
      "group\n",
      "group\n",
      "group\n"
     ]
    }
   ],
   "source": [
    "inform=re.findall(\"group\",\"We groups need to split group the team in different groups\")\n",
    "for i in inform:\n",
    "    print(i)"
   ]
  },
  {
   "cell_type": "code",
   "execution_count": 51,
   "metadata": {},
   "outputs": [
    {
     "name": "stdout",
     "output_type": "stream",
     "text": [
      "inform\n",
      "inform\n"
     ]
    }
   ],
   "source": [
    "inform=re.findall(\"inform\",\"We need to inform him, so that he has full information\")\n",
    "for i in inform:\n",
    "    print(i)"
   ]
  },
  {
   "cell_type": "code",
   "execution_count": 52,
   "metadata": {},
   "outputs": [
    {
     "name": "stdout",
     "output_type": "stream",
     "text": [
      "<re.Match object; span=(11, 17), match='inform'>\n",
      "<re.Match object; span=(43, 49), match='inform'>\n"
     ]
    }
   ],
   "source": [
    "inform=re.finditer(\"inform\",\"We need to inform him, so that he has full information\")\n",
    "for i in inform:\n",
    "    print(i)"
   ]
  },
  {
   "cell_type": "code",
   "execution_count": 53,
   "metadata": {},
   "outputs": [
    {
     "name": "stdout",
     "output_type": "stream",
     "text": [
      "Got It\n"
     ]
    },
    {
     "data": {
      "text/plain": [
       "'Sat,hat,mat,pat,cat,fat,rat'"
      ]
     },
     "execution_count": 53,
     "metadata": {},
     "output_type": "execute_result"
    }
   ],
   "source": [
    "if re.search(\"rest\",\"We need to take some rest, because taking rest will rejuvinate the body, so rest is important\"):\n",
    "    print(\"Got It\")\n",
    "else:\n",
    "    print(\"Try Again\")\n",
    "\n",
    "    \n",
    "Str"
   ]
  },
  {
   "cell_type": "code",
   "execution_count": 54,
   "metadata": {},
   "outputs": [
    {
     "data": {
      "text/plain": [
       "['Sat', 'mat', 'cat', 'rat']"
      ]
     },
     "execution_count": 54,
     "metadata": {},
     "output_type": "execute_result"
    }
   ],
   "source": [
    "\n",
    "word=re.findall(\"[Smcr]at\",Str)\n",
    "word"
   ]
  },
  {
   "cell_type": "code",
   "execution_count": 56,
   "metadata": {},
   "outputs": [
    {
     "name": "stdout",
     "output_type": "stream",
     "text": [
      "Wrong Number\n"
     ]
    }
   ],
   "source": [
    "phn=\"412-533-1221\"\n",
    "if re.search(\"\\d{3}-\\d{3}-\\d{4}\",phn):\n",
    "    print(\"It's a phone Number\")\n",
    "else:\n",
    "    print(\"Wrong Number\")"
   ]
  },
  {
   "cell_type": "code",
   "execution_count": 87,
   "metadata": {},
   "outputs": [
    {
     "name": "stdout",
     "output_type": "stream",
     "text": [
      "Please provide your 10 Digit Numer 123-123-1234\n",
      "It's a phone Number\n"
     ]
    }
   ],
   "source": [
    "##\n",
    "phn=input(\"Please provide your 10 Digit Numer \")\n",
    "if re.search(\"\\d{3}-\\d{3}-\\d{4}\",phn):\n",
    "    print(\"It's a phone Number\")\n",
    "else:\n",
    "    print(\"Wrong Number\")"
   ]
  },
  {
   "cell_type": "code",
   "execution_count": null,
   "metadata": {},
   "outputs": [],
   "source": [
    "#\\w will be same as [a-zA-Z0-9]\n",
    "#\\W will be same as [^a-zA-Z0-9]"
   ]
  },
  {
   "cell_type": "code",
   "execution_count": 95,
   "metadata": {},
   "outputs": [
    {
     "name": "stdout",
     "output_type": "stream",
     "text": [
      "phone Number\n"
     ]
    }
   ],
   "source": [
    "phn=\"478-5W0-1221\"\n",
    "if re.search(\"\\w{3}-\\w{3}-\\w{4}\",phn):\n",
    "    print(\"phone Number\")\n",
    "else:\n",
    "    print(\"Wrong Number\")"
   ]
  },
  {
   "cell_type": "code",
   "execution_count": null,
   "metadata": {},
   "outputs": [],
   "source": [
    "email=\"abc@gmail.com\""
   ]
  },
  {
   "cell_type": "code",
   "execution_count": null,
   "metadata": {},
   "outputs": [],
   "source": [
    "print(\"Email Matches:\", len(re.findall(\"[\\w._%+-]{1,20}@[\\w.-]{2,20}.[A-Za-z]{2,3}\",email)))"
   ]
  },
  {
   "cell_type": "code",
   "execution_count": 97,
   "metadata": {},
   "outputs": [
    {
     "name": "stdout",
     "output_type": "stream",
     "text": [
      "['abc@gmail.com', 'shubhamgupta@199630gmail.com', 'priyanka@yahoo.com', 'kmehta883@gmail.com', 'karan.ibmce@gmail.com']\n",
      "['abc@empi.edu.in', 'abc@gmail.in', 'shubhamgupta@199630gmail.in']\n",
      "['abc@empi.edu.in']\n"
     ]
    }
   ],
   "source": [
    "#\\S Returns a match where the string DOES NOT contain a white space character\n",
    "#\\s Returns a match where the string contains a white space character\n",
    "#@ for @symbol used in any email\n",
    "#+ for Repeat a character one or more time.\n",
    "\n",
    "\n",
    "email=\"Hello from abc@gmail.com abc@empi.edu.in abc@gmail.in shubhamgupta@199630gmail.com  shubhamgupta@199630gmail.in to priyanka@yahoo.com kmehta883@gmail.com and inform to karan.ibmce@gmail.com about the metting @ 9 PM\"\n",
    "lst=re.findall(\"\\S+@\\S+.com\",email)\n",
    "lst1=re.findall(\"\\S+@\\S+.in\",email)\n",
    "lst2=re.findall(\"\\S+@\\S+.edu.in\",email)\n",
    "print(lst)\n",
    "print(lst1)\n",
    "print(lst2)"
   ]
  },
  {
   "cell_type": "code",
   "execution_count": 98,
   "metadata": {},
   "outputs": [
    {
     "name": "stdout",
     "output_type": "stream",
     "text": [
      "['abc@gmail.com', 'shubhamgupta@199630gmail.com', 'priyanka@yahoo.com', 'kmehta883@gmail.com', 'karan.ibmce@gmail.com']\n"
     ]
    }
   ],
   "source": [
    "import re\n",
    "email=\"Hello from abc@gmail.com shubhamgupta@199630gmail.com  to priyanka@yahoo.com kmehta883@gmail.com and inform to karan.ibmce@gmail.com about the metting @ 9 PM\"\n",
    "\n",
    "\n",
    "lst=re.findall(\"\\S+@\\S+.com\",email)\n",
    "print(lst)"
   ]
  }
 ],
 "metadata": {
  "kernelspec": {
   "display_name": "Python 3",
   "language": "python",
   "name": "python3"
  },
  "language_info": {
   "codemirror_mode": {
    "name": "ipython",
    "version": 3
   },
   "file_extension": ".py",
   "mimetype": "text/x-python",
   "name": "python",
   "nbconvert_exporter": "python",
   "pygments_lexer": "ipython3",
   "version": "3.7.1"
  }
 },
 "nbformat": 4,
 "nbformat_minor": 2
}
